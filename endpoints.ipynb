{
 "cells": [
  {
   "cell_type": "code",
   "execution_count": 3,
   "metadata": {},
   "outputs": [],
   "source": [
    "import numpy as np\n",
    "import pandas as pd"
   ]
  },
  {
   "cell_type": "code",
   "execution_count": 4,
   "metadata": {},
   "outputs": [],
   "source": [
    "data = pd.read_csv(\"scr/Datasets/movies_dataset_ETL.csv\")"
   ]
  },
  {
   "cell_type": "code",
   "execution_count": 5,
   "metadata": {},
   "outputs": [
    {
     "data": {
      "text/plain": [
       "Index(['id', 'title', 'genres', 'belongs_to_collection', 'original_language',\n",
       "       'spoken_languages', 'production_companies', 'production_countries',\n",
       "       'release_date', 'release_year', 'revenue', 'budget', 'return',\n",
       "       'popularity', 'vote_average', 'vote_count', 'runtime', 'status',\n",
       "       'overview', 'tagline', 'director', 'cast'],\n",
       "      dtype='object')"
      ]
     },
     "execution_count": 5,
     "metadata": {},
     "output_type": "execute_result"
    }
   ],
   "source": [
    "data.columns"
   ]
  },
  {
   "cell_type": "code",
   "execution_count": 6,
   "metadata": {},
   "outputs": [],
   "source": [
    "df = data[['id', 'title', 'release_date', 'release_year','popularity', 'vote_average', 'vote_count', 'status', 'cast', 'director', 'return', 'budget', 'revenue']].copy()"
   ]
  },
  {
   "cell_type": "code",
   "execution_count": 7,
   "metadata": {},
   "outputs": [],
   "source": [
    "df['release_date'] = pd.to_datetime(df['release_date'], format='%Y-%m-%d', errors='coerce')\n",
    "df['release_month'] = pd.DatetimeIndex(df['release_date']).month\n",
    "df['release_weekday'] = pd.DatetimeIndex(df['release_date']).weekday"
   ]
  },
  {
   "attachments": {},
   "cell_type": "markdown",
   "metadata": {},
   "source": [
    "API 1"
   ]
  },
  {
   "cell_type": "code",
   "execution_count": 9,
   "metadata": {},
   "outputs": [],
   "source": [
    "def cantidad_filmaciones_mes(mes:str):\n",
    "    '''Se ingresa el mes y la funcion retorna la cantidad de peliculas que se estrenaron ese mes historicamente'''\n",
    "\n",
    "    mes = str.lower(mes)\n",
    "    m_dict = {\n",
    "        'enero': 1,\n",
    "        'febrero': 2,\n",
    "        'marzo': 3,\n",
    "        'abril': 4,\n",
    "        'mayo': 5,\n",
    "        'junio': 6,\n",
    "        'julio': 7,\n",
    "        'agosto': 8,\n",
    "        'septiembre': 9,\n",
    "        'octubre': 10,\n",
    "        'noviembre': 11,\n",
    "        'diciembre': 12\n",
    "        }\n",
    "\n",
    "    df['release_date'] = pd.to_datetime(df['release_date'], format='%Y-%m-%d', errors='coerce')\n",
    "\n",
    "    count = df[df['release_month'] == m_dict[mes]].shape[0]\n",
    "    \n",
    "    return {\"mes\":str(mes), \"cantidad_filmaciones\":int(count)}"
   ]
  },
  {
   "cell_type": "code",
   "execution_count": 10,
   "metadata": {},
   "outputs": [
    {
     "data": {
      "text/plain": [
       "{'mes': 'julio', 'cantidad_filmaciones': 2646}"
      ]
     },
     "execution_count": 10,
     "metadata": {},
     "output_type": "execute_result"
    }
   ],
   "source": [
    "cantidad_filmaciones_mes(\"julio\")"
   ]
  },
  {
   "attachments": {},
   "cell_type": "markdown",
   "metadata": {},
   "source": [
    "API 2"
   ]
  },
  {
   "cell_type": "code",
   "execution_count": 19,
   "metadata": {},
   "outputs": [],
   "source": [
    "def cantidad_filmaciones_dia(dia:str):\n",
    "    '''Se ingresa el dia y la funcion retorna la cantidad de peliculas que se estrenaron ese dia historicamente'''\n",
    "\n",
    "    dia = str.lower(dia)\n",
    "    d_dict = {\n",
    "        'lunes': 0,\n",
    "        'martes': 1,\n",
    "        'miercoles': 2,\n",
    "        'jueves': 3,\n",
    "        'viernes': 4,\n",
    "        'sabado': 5,\n",
    "        'domingo': 6,\n",
    "        }\n",
    "    \n",
    "    #df['release_date'] = pd.to_datetime(df['release_date'], format='%Y-%m-%d', errors='coerce')\n",
    "\n",
    "    dff = df[df['status'] == 'Released']\n",
    "\n",
    "    count = dff.loc[dff['release_weekday'] == d_dict[dia]].shape[0]\n",
    "    \n",
    "    return {\"dia\":str(dia), \"cantidad_filmaciones\": str(count)}"
   ]
  },
  {
   "cell_type": "code",
   "execution_count": 12,
   "metadata": {},
   "outputs": [
    {
     "data": {
      "text/plain": [
       "array(['Released', nan, 'Rumored', 'Post Production', 'In Production',\n",
       "       'Planned', 'Canceled'], dtype=object)"
      ]
     },
     "execution_count": 12,
     "metadata": {},
     "output_type": "execute_result"
    }
   ],
   "source": [
    "df['status'].unique()"
   ]
  },
  {
   "cell_type": "code",
   "execution_count": 20,
   "metadata": {},
   "outputs": [
    {
     "data": {
      "text/plain": [
       "{'dia': 'domingo', 'cantidad_filmaciones': '3584'}"
      ]
     },
     "execution_count": 20,
     "metadata": {},
     "output_type": "execute_result"
    }
   ],
   "source": [
    "cantidad_filmaciones_dia(\"domingo\")"
   ]
  },
  {
   "attachments": {},
   "cell_type": "markdown",
   "metadata": {},
   "source": [
    "API 3"
   ]
  },
  {
   "cell_type": "code",
   "execution_count": 12,
   "metadata": {},
   "outputs": [],
   "source": [
    "def score_titulo(titulo:str):\n",
    "    '''Se ingresa el título de una filmación esperando como respuesta el título, el año de estreno y el score'''\n",
    "\n",
    "    titulo = str.lower(titulo)\n",
    "    \n",
    "    dff = df[df['title'].apply(str.lower) == titulo].sort_values('release_year',ascending=False)\n",
    "    \n",
    "    dff.rename(columns={'title': 'titulo', 'release_year': 'anio_estreno','popularity': 'popularidad'}, inplace=True)\n",
    "    dff = dff[['titulo', 'anio_estreno', 'popularidad']]\n",
    "    \n",
    "    return dff.iloc[0].to_dict()"
   ]
  },
  {
   "cell_type": "code",
   "execution_count": 13,
   "metadata": {},
   "outputs": [
    {
     "data": {
      "text/plain": [
       "{'titulo': 'Blackout', 'anio_estreno': 2015, 'popularidad': 0.423677}"
      ]
     },
     "execution_count": 13,
     "metadata": {},
     "output_type": "execute_result"
    }
   ],
   "source": [
    "score_titulo(\"blackout\")"
   ]
  },
  {
   "attachments": {},
   "cell_type": "markdown",
   "metadata": {},
   "source": [
    "API 4"
   ]
  },
  {
   "cell_type": "code",
   "execution_count": 14,
   "metadata": {},
   "outputs": [],
   "source": [
    "def votos_titulo(titulo:str):\n",
    "    '''Se ingresa el título de una filmación esperando como respuesta el título, la cantidad de votos y el valor promedio de las votaciones. \n",
    "    La misma variable deberá de contar con al menos 2000 valoraciones, \n",
    "    caso contrario, debemos contar con un mensaje avisando que no cumple esta condición y que por ende, no se devuelve ningun valor.'''\n",
    "\n",
    "    titulo = str.lower(titulo)\n",
    "\n",
    "    dff = df[df['title'].apply(str.lower) == titulo].sort_values('release_year',ascending=False)\n",
    "    \n",
    "    dff.rename(columns={'title': 'titulo', 'release_year': 'anio','vote_count': 'voto_total', 'vote_average': 'voto_promedio'}, inplace=True)\n",
    "    dff = dff[['titulo', 'anio', 'voto_total', 'voto_promedio']]\n",
    "\n",
    "\n",
    "    count = dff['voto_total'].sum()\n",
    "    avg = dff['voto_promedio'].mean()\n",
    "    year = dff['anio'].iloc[0]\n",
    "    \n",
    "    if count >= 2000:\n",
    "        return {\"titulo\":str(titulo), 'anio':int(year), \"voto_total\":int(count),\"voto_promedio\":int(avg)}\n",
    "    else:\n",
    "        return {\"titulo\":str(titulo), 'mensaje': 'No es posible un resultado ya que el título seleccionado tiene pocas valoraciones.'}"
   ]
  },
  {
   "cell_type": "code",
   "execution_count": 15,
   "metadata": {},
   "outputs": [
    {
     "data": {
      "text/plain": [
       "{'titulo': 'blackout',\n",
       " 'mensaje': 'No es posible un resultado ya que el título seleccionado tiene pocas valoraciones.'}"
      ]
     },
     "execution_count": 15,
     "metadata": {},
     "output_type": "execute_result"
    }
   ],
   "source": [
    "votos_titulo(\"Blackout\")"
   ]
  },
  {
   "cell_type": "code",
   "execution_count": 16,
   "metadata": {},
   "outputs": [
    {
     "data": {
      "text/plain": [
       "{'titulo': 'toy story', 'anio': 1995, 'voto_total': 5415, 'voto_promedio': 7.7}"
      ]
     },
     "execution_count": 16,
     "metadata": {},
     "output_type": "execute_result"
    }
   ],
   "source": [
    "votos_titulo(\"Toy Story\")"
   ]
  },
  {
   "attachments": {},
   "cell_type": "markdown",
   "metadata": {},
   "source": [
    "API 5"
   ]
  },
  {
   "cell_type": "code",
   "execution_count": 17,
   "metadata": {},
   "outputs": [],
   "source": [
    "def get_actor(nombre_actor:str):\n",
    "    '''Se ingresa el nombre de un actor que se encuentre dentro de un dataset debiendo devolver el éxito del mismo medido a través del retorno. \n",
    "    Además, la cantidad de películas que en las que ha participado y el promedio de retorno'''\n",
    "\n",
    "    nombre_actor = str.lower(nombre_actor)\n",
    "\n",
    "    mask = df['cast'].apply(str.lower).str.find(nombre_actor) != -1\n",
    "    dff = df[mask]\n",
    "\n",
    "    count = dff.shape[0]\n",
    "    retorno_tot = dff['return'].sum()\n",
    "    retorno_prom = dff['return'].mean()\n",
    "\n",
    "    return {\"actor\": str(nombre_actor), \"cantidad_filmaciones\": int(count),\"retorno_total\": int(retorno_tot), 'retorno_promedio': int(retorno_prom)}"
   ]
  },
  {
   "cell_type": "code",
   "execution_count": 18,
   "metadata": {},
   "outputs": [
    {
     "data": {
      "text/plain": [
       "{'actor': 'tom hanks',\n",
       " 'cantidad_filmaciones': 71,\n",
       " 'retorno_total': 178.8494960552024,\n",
       " 'retorno_promedio': 2.5190069866929914}"
      ]
     },
     "execution_count": 18,
     "metadata": {},
     "output_type": "execute_result"
    }
   ],
   "source": [
    "get_actor('Tom Hanks')"
   ]
  },
  {
   "attachments": {},
   "cell_type": "markdown",
   "metadata": {},
   "source": [
    "API 6"
   ]
  },
  {
   "cell_type": "code",
   "execution_count": 19,
   "metadata": {},
   "outputs": [],
   "source": [
    "def get_director(nombre_director:str):\n",
    "    ''' Se ingresa el nombre de un director que se encuentre dentro de un dataset debiendo devolver el éxito del mismo medido a través del retorno. \n",
    "    Además, deberá devolver el nombre de cada película con la fecha de lanzamiento, retorno individual, costo y ganancia de la misma.'''\n",
    "\n",
    "    nombre_director = str.lower(nombre_director)\n",
    "\n",
    "    dff = df.dropna(subset='director')\n",
    "    mask = dff['director'].apply(str.lower).str.find(nombre_director) != -1\n",
    "    dff = dff[mask]  \n",
    "    \n",
    "    retorno = dff['return'].sum()\n",
    "\n",
    "    peliculas = []\n",
    "\n",
    "    for i in range(dff.shape[0]):\n",
    "        dic = {}\n",
    "        dic['title'] = str(dff['title'].iloc[i])\n",
    "        dic['release_year'] = str(dff['release_year'].iloc[i])\n",
    "        dic['return'] = str(dff['return'].iloc[i])\n",
    "        dic['budget'] = str(dff['budget'].iloc[i])\n",
    "        dic['revenue'] = str(dff['revenue'].iloc[i])\n",
    "        peliculas.append(dic)\n",
    "\n",
    "    \n",
    "\n",
    "    #return {\"director\":str(nombre_director), \"retorno_promedio_por_filmacion\":str(retorno),\"peliculas\":peliculas}\n",
    "\n",
    "    return {'director':str(nombre_director), 'retorno_total_director':int(retorno), \n",
    "    'peliculas':dff['title'].tolist(), 'anio':dff['release_year'].tolist(), 'retorno_pelicula':dff['return'].tolist(), \n",
    "    'budget_pelicula':dff['budget'].tolist(), 'revenue_pelicula':dff['revenue'].tolist()}\n"
   ]
  },
  {
   "cell_type": "code",
   "execution_count": 20,
   "metadata": {},
   "outputs": [
    {
     "data": {
      "text/plain": [
       "{'director': 'allison anders',\n",
       " 'retorno_total_director': 1.075,\n",
       " 'peliculas': ['Four Rooms',\n",
       "  'Mi Vida Loca',\n",
       "  'Grace of My Heart',\n",
       "  'Sugar Town',\n",
       "  'Things Behind the Sun',\n",
       "  'Gas Food Lodging',\n",
       "  'Border Radio',\n",
       "  'Ring of Fire',\n",
       "  'A Crush on You'],\n",
       " 'anio': [1995, 1994, 1996, 1999, 2001, 1992, 1987, 2013, 2011],\n",
       " 'retorno_pelicula': [1.075, 0.0, 0.0, 0.0, 0.0, 0.0, 0.0, 0.0, 0.0],\n",
       " 'budget_pelicula': [4000000, 0, 0, 0, 0, 0, 0, 0, 0],\n",
       " 'revenue_pelicula': [4300000, 0, 0, 0, 0, 1345236, 0, 0, 0]}"
      ]
     },
     "execution_count": 20,
     "metadata": {},
     "output_type": "execute_result"
    }
   ],
   "source": [
    "get_director('Allison Anders')"
   ]
  },
  {
   "attachments": {},
   "cell_type": "markdown",
   "metadata": {},
   "source": [
    "API 7"
   ]
  },
  {
   "attachments": {},
   "cell_type": "markdown",
   "metadata": {},
   "source": [
    "Modelo de ML"
   ]
  },
  {
   "cell_type": "code",
   "execution_count": 21,
   "metadata": {},
   "outputs": [],
   "source": [
    "df.to_csv('scr/Datasets/movies_dataset_ETL_toAPI.csv', index=False)"
   ]
  }
 ],
 "metadata": {
  "kernelspec": {
   "display_name": "Python 3",
   "language": "python",
   "name": "python3"
  },
  "language_info": {
   "codemirror_mode": {
    "name": "ipython",
    "version": 3
   },
   "file_extension": ".py",
   "mimetype": "text/x-python",
   "name": "python",
   "nbconvert_exporter": "python",
   "pygments_lexer": "ipython3",
   "version": "3.11.3"
  },
  "orig_nbformat": 4
 },
 "nbformat": 4,
 "nbformat_minor": 2
}
