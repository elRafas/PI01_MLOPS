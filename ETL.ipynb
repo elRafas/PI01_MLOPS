{
 "cells": [
  {
   "cell_type": "code",
   "execution_count": 1,
   "metadata": {},
   "outputs": [],
   "source": [
    "import numpy as np\n",
    "import pandas as pd\n",
    "import ast"
   ]
  },
  {
   "attachments": {},
   "cell_type": "markdown",
   "metadata": {},
   "source": [
    "# Extract"
   ]
  },
  {
   "cell_type": "code",
   "execution_count": 2,
   "metadata": {},
   "outputs": [],
   "source": [
    "data = pd.read_csv(\"scr/Datasets/movies_dataset.csv\")\n",
    "credits = pd.read_csv(\"scr/Datasets/credits.csv\")"
   ]
  },
  {
   "cell_type": "code",
   "execution_count": 3,
   "metadata": {},
   "outputs": [
    {
     "data": {
      "text/html": [
       "<div>\n",
       "<style scoped>\n",
       "    .dataframe tbody tr th:only-of-type {\n",
       "        vertical-align: middle;\n",
       "    }\n",
       "\n",
       "    .dataframe tbody tr th {\n",
       "        vertical-align: top;\n",
       "    }\n",
       "\n",
       "    .dataframe thead th {\n",
       "        text-align: right;\n",
       "    }\n",
       "</style>\n",
       "<table border=\"1\" class=\"dataframe\">\n",
       "  <thead>\n",
       "    <tr style=\"text-align: right;\">\n",
       "      <th></th>\n",
       "      <th>adult</th>\n",
       "      <th>belongs_to_collection</th>\n",
       "      <th>budget</th>\n",
       "      <th>genres</th>\n",
       "      <th>homepage</th>\n",
       "      <th>id</th>\n",
       "      <th>imdb_id</th>\n",
       "      <th>original_language</th>\n",
       "      <th>original_title</th>\n",
       "      <th>overview</th>\n",
       "      <th>...</th>\n",
       "      <th>release_date</th>\n",
       "      <th>revenue</th>\n",
       "      <th>runtime</th>\n",
       "      <th>spoken_languages</th>\n",
       "      <th>status</th>\n",
       "      <th>tagline</th>\n",
       "      <th>title</th>\n",
       "      <th>video</th>\n",
       "      <th>vote_average</th>\n",
       "      <th>vote_count</th>\n",
       "    </tr>\n",
       "  </thead>\n",
       "  <tbody>\n",
       "    <tr>\n",
       "      <th>0</th>\n",
       "      <td>False</td>\n",
       "      <td>{'id': 10194, 'name': 'Toy Story Collection', ...</td>\n",
       "      <td>30000000</td>\n",
       "      <td>[{'id': 16, 'name': 'Animation'}, {'id': 35, '...</td>\n",
       "      <td>http://toystory.disney.com/toy-story</td>\n",
       "      <td>862</td>\n",
       "      <td>tt0114709</td>\n",
       "      <td>en</td>\n",
       "      <td>Toy Story</td>\n",
       "      <td>Led by Woody, Andy's toys live happily in his ...</td>\n",
       "      <td>...</td>\n",
       "      <td>1995-10-30</td>\n",
       "      <td>373554033</td>\n",
       "      <td>81.0</td>\n",
       "      <td>[{'iso_639_1': 'en', 'name': 'English'}]</td>\n",
       "      <td>Released</td>\n",
       "      <td>NaN</td>\n",
       "      <td>Toy Story</td>\n",
       "      <td>False</td>\n",
       "      <td>7.7</td>\n",
       "      <td>5415</td>\n",
       "    </tr>\n",
       "    <tr>\n",
       "      <th>1</th>\n",
       "      <td>False</td>\n",
       "      <td>NaN</td>\n",
       "      <td>65000000</td>\n",
       "      <td>[{'id': 12, 'name': 'Adventure'}, {'id': 14, '...</td>\n",
       "      <td>NaN</td>\n",
       "      <td>8844</td>\n",
       "      <td>tt0113497</td>\n",
       "      <td>en</td>\n",
       "      <td>Jumanji</td>\n",
       "      <td>When siblings Judy and Peter discover an encha...</td>\n",
       "      <td>...</td>\n",
       "      <td>1995-12-15</td>\n",
       "      <td>262797249</td>\n",
       "      <td>104.0</td>\n",
       "      <td>[{'iso_639_1': 'en', 'name': 'English'}, {'iso...</td>\n",
       "      <td>Released</td>\n",
       "      <td>Roll the dice and unleash the excitement!</td>\n",
       "      <td>Jumanji</td>\n",
       "      <td>False</td>\n",
       "      <td>6.9</td>\n",
       "      <td>2413</td>\n",
       "    </tr>\n",
       "    <tr>\n",
       "      <th>2</th>\n",
       "      <td>False</td>\n",
       "      <td>{'id': 119050, 'name': 'Grumpy Old Men Collect...</td>\n",
       "      <td>0</td>\n",
       "      <td>[{'id': 10749, 'name': 'Romance'}, {'id': 35, ...</td>\n",
       "      <td>NaN</td>\n",
       "      <td>15602</td>\n",
       "      <td>tt0113228</td>\n",
       "      <td>en</td>\n",
       "      <td>Grumpier Old Men</td>\n",
       "      <td>A family wedding reignites the ancient feud be...</td>\n",
       "      <td>...</td>\n",
       "      <td>1995-12-22</td>\n",
       "      <td>0</td>\n",
       "      <td>101.0</td>\n",
       "      <td>[{'iso_639_1': 'en', 'name': 'English'}]</td>\n",
       "      <td>Released</td>\n",
       "      <td>Still Yelling. Still Fighting. Still Ready for...</td>\n",
       "      <td>Grumpier Old Men</td>\n",
       "      <td>False</td>\n",
       "      <td>6.5</td>\n",
       "      <td>92</td>\n",
       "    </tr>\n",
       "    <tr>\n",
       "      <th>3</th>\n",
       "      <td>False</td>\n",
       "      <td>NaN</td>\n",
       "      <td>16000000</td>\n",
       "      <td>[{'id': 35, 'name': 'Comedy'}, {'id': 18, 'nam...</td>\n",
       "      <td>NaN</td>\n",
       "      <td>31357</td>\n",
       "      <td>tt0114885</td>\n",
       "      <td>en</td>\n",
       "      <td>Waiting to Exhale</td>\n",
       "      <td>Cheated on, mistreated and stepped on, the wom...</td>\n",
       "      <td>...</td>\n",
       "      <td>1995-12-22</td>\n",
       "      <td>81452156</td>\n",
       "      <td>127.0</td>\n",
       "      <td>[{'iso_639_1': 'en', 'name': 'English'}]</td>\n",
       "      <td>Released</td>\n",
       "      <td>Friends are the people who let you be yourself...</td>\n",
       "      <td>Waiting to Exhale</td>\n",
       "      <td>False</td>\n",
       "      <td>6.1</td>\n",
       "      <td>34</td>\n",
       "    </tr>\n",
       "    <tr>\n",
       "      <th>4</th>\n",
       "      <td>False</td>\n",
       "      <td>{'id': 96871, 'name': 'Father of the Bride Col...</td>\n",
       "      <td>0</td>\n",
       "      <td>[{'id': 35, 'name': 'Comedy'}]</td>\n",
       "      <td>NaN</td>\n",
       "      <td>11862</td>\n",
       "      <td>tt0113041</td>\n",
       "      <td>en</td>\n",
       "      <td>Father of the Bride Part II</td>\n",
       "      <td>Just when George Banks has recovered from his ...</td>\n",
       "      <td>...</td>\n",
       "      <td>1995-02-10</td>\n",
       "      <td>76578911</td>\n",
       "      <td>106.0</td>\n",
       "      <td>[{'iso_639_1': 'en', 'name': 'English'}]</td>\n",
       "      <td>Released</td>\n",
       "      <td>Just When His World Is Back To Normal... He's ...</td>\n",
       "      <td>Father of the Bride Part II</td>\n",
       "      <td>False</td>\n",
       "      <td>5.7</td>\n",
       "      <td>173</td>\n",
       "    </tr>\n",
       "    <tr>\n",
       "      <th>...</th>\n",
       "      <td>...</td>\n",
       "      <td>...</td>\n",
       "      <td>...</td>\n",
       "      <td>...</td>\n",
       "      <td>...</td>\n",
       "      <td>...</td>\n",
       "      <td>...</td>\n",
       "      <td>...</td>\n",
       "      <td>...</td>\n",
       "      <td>...</td>\n",
       "      <td>...</td>\n",
       "      <td>...</td>\n",
       "      <td>...</td>\n",
       "      <td>...</td>\n",
       "      <td>...</td>\n",
       "      <td>...</td>\n",
       "      <td>...</td>\n",
       "      <td>...</td>\n",
       "      <td>...</td>\n",
       "      <td>...</td>\n",
       "      <td>...</td>\n",
       "    </tr>\n",
       "    <tr>\n",
       "      <th>45458</th>\n",
       "      <td>False</td>\n",
       "      <td>NaN</td>\n",
       "      <td>0</td>\n",
       "      <td>[{'id': 18, 'name': 'Drama'}, {'id': 10751, 'n...</td>\n",
       "      <td>http://www.imdb.com/title/tt6209470/</td>\n",
       "      <td>439050</td>\n",
       "      <td>tt6209470</td>\n",
       "      <td>fa</td>\n",
       "      <td>رگ خواب</td>\n",
       "      <td>Rising and falling between a man and woman.</td>\n",
       "      <td>...</td>\n",
       "      <td>NaN</td>\n",
       "      <td>0</td>\n",
       "      <td>90.0</td>\n",
       "      <td>[{'iso_639_1': 'fa', 'name': 'فارسی'}]</td>\n",
       "      <td>Released</td>\n",
       "      <td>Rising and falling between a man and woman</td>\n",
       "      <td>Subdue</td>\n",
       "      <td>False</td>\n",
       "      <td>4.0</td>\n",
       "      <td>1</td>\n",
       "    </tr>\n",
       "    <tr>\n",
       "      <th>45459</th>\n",
       "      <td>False</td>\n",
       "      <td>NaN</td>\n",
       "      <td>0</td>\n",
       "      <td>[{'id': 18, 'name': 'Drama'}]</td>\n",
       "      <td>NaN</td>\n",
       "      <td>111109</td>\n",
       "      <td>tt2028550</td>\n",
       "      <td>tl</td>\n",
       "      <td>Siglo ng Pagluluwal</td>\n",
       "      <td>An artist struggles to finish his work while a...</td>\n",
       "      <td>...</td>\n",
       "      <td>2011-11-17</td>\n",
       "      <td>0</td>\n",
       "      <td>360.0</td>\n",
       "      <td>[{'iso_639_1': 'tl', 'name': ''}]</td>\n",
       "      <td>Released</td>\n",
       "      <td>NaN</td>\n",
       "      <td>Century of Birthing</td>\n",
       "      <td>False</td>\n",
       "      <td>9.0</td>\n",
       "      <td>3</td>\n",
       "    </tr>\n",
       "    <tr>\n",
       "      <th>45460</th>\n",
       "      <td>False</td>\n",
       "      <td>NaN</td>\n",
       "      <td>0</td>\n",
       "      <td>[{'id': 28, 'name': 'Action'}, {'id': 18, 'nam...</td>\n",
       "      <td>NaN</td>\n",
       "      <td>67758</td>\n",
       "      <td>tt0303758</td>\n",
       "      <td>en</td>\n",
       "      <td>Betrayal</td>\n",
       "      <td>When one of her hits goes wrong, a professiona...</td>\n",
       "      <td>...</td>\n",
       "      <td>2003-08-01</td>\n",
       "      <td>0</td>\n",
       "      <td>90.0</td>\n",
       "      <td>[{'iso_639_1': 'en', 'name': 'English'}]</td>\n",
       "      <td>Released</td>\n",
       "      <td>A deadly game of wits.</td>\n",
       "      <td>Betrayal</td>\n",
       "      <td>False</td>\n",
       "      <td>3.8</td>\n",
       "      <td>6</td>\n",
       "    </tr>\n",
       "    <tr>\n",
       "      <th>45461</th>\n",
       "      <td>False</td>\n",
       "      <td>NaN</td>\n",
       "      <td>0</td>\n",
       "      <td>[]</td>\n",
       "      <td>NaN</td>\n",
       "      <td>227506</td>\n",
       "      <td>tt0008536</td>\n",
       "      <td>en</td>\n",
       "      <td>Satana likuyushchiy</td>\n",
       "      <td>In a small town live two brothers, one a minis...</td>\n",
       "      <td>...</td>\n",
       "      <td>1917-10-21</td>\n",
       "      <td>0</td>\n",
       "      <td>87.0</td>\n",
       "      <td>[]</td>\n",
       "      <td>Released</td>\n",
       "      <td>NaN</td>\n",
       "      <td>Satan Triumphant</td>\n",
       "      <td>False</td>\n",
       "      <td>0.0</td>\n",
       "      <td>0</td>\n",
       "    </tr>\n",
       "    <tr>\n",
       "      <th>45462</th>\n",
       "      <td>False</td>\n",
       "      <td>NaN</td>\n",
       "      <td>0</td>\n",
       "      <td>[]</td>\n",
       "      <td>NaN</td>\n",
       "      <td>461257</td>\n",
       "      <td>tt6980792</td>\n",
       "      <td>en</td>\n",
       "      <td>Queerama</td>\n",
       "      <td>50 years after decriminalisation of homosexual...</td>\n",
       "      <td>...</td>\n",
       "      <td>2017-06-09</td>\n",
       "      <td>0</td>\n",
       "      <td>75.0</td>\n",
       "      <td>[{'iso_639_1': 'en', 'name': 'English'}]</td>\n",
       "      <td>Released</td>\n",
       "      <td>NaN</td>\n",
       "      <td>Queerama</td>\n",
       "      <td>False</td>\n",
       "      <td>0.0</td>\n",
       "      <td>0</td>\n",
       "    </tr>\n",
       "  </tbody>\n",
       "</table>\n",
       "<p>45463 rows × 24 columns</p>\n",
       "</div>"
      ],
      "text/plain": [
       "       adult                              belongs_to_collection    budget  \\\n",
       "0      False  {'id': 10194, 'name': 'Toy Story Collection', ...  30000000   \n",
       "1      False                                                NaN  65000000   \n",
       "2      False  {'id': 119050, 'name': 'Grumpy Old Men Collect...         0   \n",
       "3      False                                                NaN  16000000   \n",
       "4      False  {'id': 96871, 'name': 'Father of the Bride Col...         0   \n",
       "...      ...                                                ...       ...   \n",
       "45458  False                                                NaN         0   \n",
       "45459  False                                                NaN         0   \n",
       "45460  False                                                NaN         0   \n",
       "45461  False                                                NaN         0   \n",
       "45462  False                                                NaN         0   \n",
       "\n",
       "                                                  genres  \\\n",
       "0      [{'id': 16, 'name': 'Animation'}, {'id': 35, '...   \n",
       "1      [{'id': 12, 'name': 'Adventure'}, {'id': 14, '...   \n",
       "2      [{'id': 10749, 'name': 'Romance'}, {'id': 35, ...   \n",
       "3      [{'id': 35, 'name': 'Comedy'}, {'id': 18, 'nam...   \n",
       "4                         [{'id': 35, 'name': 'Comedy'}]   \n",
       "...                                                  ...   \n",
       "45458  [{'id': 18, 'name': 'Drama'}, {'id': 10751, 'n...   \n",
       "45459                      [{'id': 18, 'name': 'Drama'}]   \n",
       "45460  [{'id': 28, 'name': 'Action'}, {'id': 18, 'nam...   \n",
       "45461                                                 []   \n",
       "45462                                                 []   \n",
       "\n",
       "                                   homepage      id    imdb_id  \\\n",
       "0      http://toystory.disney.com/toy-story     862  tt0114709   \n",
       "1                                       NaN    8844  tt0113497   \n",
       "2                                       NaN   15602  tt0113228   \n",
       "3                                       NaN   31357  tt0114885   \n",
       "4                                       NaN   11862  tt0113041   \n",
       "...                                     ...     ...        ...   \n",
       "45458  http://www.imdb.com/title/tt6209470/  439050  tt6209470   \n",
       "45459                                   NaN  111109  tt2028550   \n",
       "45460                                   NaN   67758  tt0303758   \n",
       "45461                                   NaN  227506  tt0008536   \n",
       "45462                                   NaN  461257  tt6980792   \n",
       "\n",
       "      original_language               original_title  \\\n",
       "0                    en                    Toy Story   \n",
       "1                    en                      Jumanji   \n",
       "2                    en             Grumpier Old Men   \n",
       "3                    en            Waiting to Exhale   \n",
       "4                    en  Father of the Bride Part II   \n",
       "...                 ...                          ...   \n",
       "45458                fa                      رگ خواب   \n",
       "45459                tl          Siglo ng Pagluluwal   \n",
       "45460                en                     Betrayal   \n",
       "45461                en          Satana likuyushchiy   \n",
       "45462                en                     Queerama   \n",
       "\n",
       "                                                overview  ...  release_date  \\\n",
       "0      Led by Woody, Andy's toys live happily in his ...  ...    1995-10-30   \n",
       "1      When siblings Judy and Peter discover an encha...  ...    1995-12-15   \n",
       "2      A family wedding reignites the ancient feud be...  ...    1995-12-22   \n",
       "3      Cheated on, mistreated and stepped on, the wom...  ...    1995-12-22   \n",
       "4      Just when George Banks has recovered from his ...  ...    1995-02-10   \n",
       "...                                                  ...  ...           ...   \n",
       "45458        Rising and falling between a man and woman.  ...           NaN   \n",
       "45459  An artist struggles to finish his work while a...  ...    2011-11-17   \n",
       "45460  When one of her hits goes wrong, a professiona...  ...    2003-08-01   \n",
       "45461  In a small town live two brothers, one a minis...  ...    1917-10-21   \n",
       "45462  50 years after decriminalisation of homosexual...  ...    2017-06-09   \n",
       "\n",
       "         revenue runtime                                   spoken_languages  \\\n",
       "0      373554033    81.0           [{'iso_639_1': 'en', 'name': 'English'}]   \n",
       "1      262797249   104.0  [{'iso_639_1': 'en', 'name': 'English'}, {'iso...   \n",
       "2              0   101.0           [{'iso_639_1': 'en', 'name': 'English'}]   \n",
       "3       81452156   127.0           [{'iso_639_1': 'en', 'name': 'English'}]   \n",
       "4       76578911   106.0           [{'iso_639_1': 'en', 'name': 'English'}]   \n",
       "...          ...     ...                                                ...   \n",
       "45458          0    90.0             [{'iso_639_1': 'fa', 'name': 'فارسی'}]   \n",
       "45459          0   360.0                  [{'iso_639_1': 'tl', 'name': ''}]   \n",
       "45460          0    90.0           [{'iso_639_1': 'en', 'name': 'English'}]   \n",
       "45461          0    87.0                                                 []   \n",
       "45462          0    75.0           [{'iso_639_1': 'en', 'name': 'English'}]   \n",
       "\n",
       "         status                                            tagline  \\\n",
       "0      Released                                                NaN   \n",
       "1      Released          Roll the dice and unleash the excitement!   \n",
       "2      Released  Still Yelling. Still Fighting. Still Ready for...   \n",
       "3      Released  Friends are the people who let you be yourself...   \n",
       "4      Released  Just When His World Is Back To Normal... He's ...   \n",
       "...         ...                                                ...   \n",
       "45458  Released         Rising and falling between a man and woman   \n",
       "45459  Released                                                NaN   \n",
       "45460  Released                             A deadly game of wits.   \n",
       "45461  Released                                                NaN   \n",
       "45462  Released                                                NaN   \n",
       "\n",
       "                             title  video vote_average vote_count  \n",
       "0                        Toy Story  False          7.7       5415  \n",
       "1                          Jumanji  False          6.9       2413  \n",
       "2                 Grumpier Old Men  False          6.5         92  \n",
       "3                Waiting to Exhale  False          6.1         34  \n",
       "4      Father of the Bride Part II  False          5.7        173  \n",
       "...                            ...    ...          ...        ...  \n",
       "45458                       Subdue  False          4.0          1  \n",
       "45459          Century of Birthing  False          9.0          3  \n",
       "45460                     Betrayal  False          3.8          6  \n",
       "45461             Satan Triumphant  False          0.0          0  \n",
       "45462                     Queerama  False          0.0          0  \n",
       "\n",
       "[45463 rows x 24 columns]"
      ]
     },
     "execution_count": 3,
     "metadata": {},
     "output_type": "execute_result"
    }
   ],
   "source": [
    "data"
   ]
  },
  {
   "cell_type": "code",
   "execution_count": 4,
   "metadata": {},
   "outputs": [
    {
     "data": {
      "text/html": [
       "<div>\n",
       "<style scoped>\n",
       "    .dataframe tbody tr th:only-of-type {\n",
       "        vertical-align: middle;\n",
       "    }\n",
       "\n",
       "    .dataframe tbody tr th {\n",
       "        vertical-align: top;\n",
       "    }\n",
       "\n",
       "    .dataframe thead th {\n",
       "        text-align: right;\n",
       "    }\n",
       "</style>\n",
       "<table border=\"1\" class=\"dataframe\">\n",
       "  <thead>\n",
       "    <tr style=\"text-align: right;\">\n",
       "      <th></th>\n",
       "      <th>cast</th>\n",
       "      <th>crew</th>\n",
       "      <th>id</th>\n",
       "    </tr>\n",
       "  </thead>\n",
       "  <tbody>\n",
       "    <tr>\n",
       "      <th>0</th>\n",
       "      <td>[{'cast_id': 14, 'character': 'Woody (voice)',...</td>\n",
       "      <td>[{'credit_id': '52fe4284c3a36847f8024f49', 'de...</td>\n",
       "      <td>862</td>\n",
       "    </tr>\n",
       "    <tr>\n",
       "      <th>1</th>\n",
       "      <td>[{'cast_id': 1, 'character': 'Alan Parrish', '...</td>\n",
       "      <td>[{'credit_id': '52fe44bfc3a36847f80a7cd1', 'de...</td>\n",
       "      <td>8844</td>\n",
       "    </tr>\n",
       "    <tr>\n",
       "      <th>2</th>\n",
       "      <td>[{'cast_id': 2, 'character': 'Max Goldman', 'c...</td>\n",
       "      <td>[{'credit_id': '52fe466a9251416c75077a89', 'de...</td>\n",
       "      <td>15602</td>\n",
       "    </tr>\n",
       "    <tr>\n",
       "      <th>3</th>\n",
       "      <td>[{'cast_id': 1, 'character': \"Savannah 'Vannah...</td>\n",
       "      <td>[{'credit_id': '52fe44779251416c91011acb', 'de...</td>\n",
       "      <td>31357</td>\n",
       "    </tr>\n",
       "    <tr>\n",
       "      <th>4</th>\n",
       "      <td>[{'cast_id': 1, 'character': 'George Banks', '...</td>\n",
       "      <td>[{'credit_id': '52fe44959251416c75039ed7', 'de...</td>\n",
       "      <td>11862</td>\n",
       "    </tr>\n",
       "    <tr>\n",
       "      <th>...</th>\n",
       "      <td>...</td>\n",
       "      <td>...</td>\n",
       "      <td>...</td>\n",
       "    </tr>\n",
       "    <tr>\n",
       "      <th>45471</th>\n",
       "      <td>[{'cast_id': 0, 'character': '', 'credit_id': ...</td>\n",
       "      <td>[{'credit_id': '5894a97d925141426c00818c', 'de...</td>\n",
       "      <td>439050</td>\n",
       "    </tr>\n",
       "    <tr>\n",
       "      <th>45472</th>\n",
       "      <td>[{'cast_id': 1002, 'character': 'Sister Angela...</td>\n",
       "      <td>[{'credit_id': '52fe4af1c3a36847f81e9b15', 'de...</td>\n",
       "      <td>111109</td>\n",
       "    </tr>\n",
       "    <tr>\n",
       "      <th>45473</th>\n",
       "      <td>[{'cast_id': 6, 'character': 'Emily Shaw', 'cr...</td>\n",
       "      <td>[{'credit_id': '52fe4776c3a368484e0c8387', 'de...</td>\n",
       "      <td>67758</td>\n",
       "    </tr>\n",
       "    <tr>\n",
       "      <th>45474</th>\n",
       "      <td>[{'cast_id': 2, 'character': '', 'credit_id': ...</td>\n",
       "      <td>[{'credit_id': '533bccebc3a36844cf0011a7', 'de...</td>\n",
       "      <td>227506</td>\n",
       "    </tr>\n",
       "    <tr>\n",
       "      <th>45475</th>\n",
       "      <td>[]</td>\n",
       "      <td>[{'credit_id': '593e676c92514105b702e68e', 'de...</td>\n",
       "      <td>461257</td>\n",
       "    </tr>\n",
       "  </tbody>\n",
       "</table>\n",
       "<p>45476 rows × 3 columns</p>\n",
       "</div>"
      ],
      "text/plain": [
       "                                                    cast  \\\n",
       "0      [{'cast_id': 14, 'character': 'Woody (voice)',...   \n",
       "1      [{'cast_id': 1, 'character': 'Alan Parrish', '...   \n",
       "2      [{'cast_id': 2, 'character': 'Max Goldman', 'c...   \n",
       "3      [{'cast_id': 1, 'character': \"Savannah 'Vannah...   \n",
       "4      [{'cast_id': 1, 'character': 'George Banks', '...   \n",
       "...                                                  ...   \n",
       "45471  [{'cast_id': 0, 'character': '', 'credit_id': ...   \n",
       "45472  [{'cast_id': 1002, 'character': 'Sister Angela...   \n",
       "45473  [{'cast_id': 6, 'character': 'Emily Shaw', 'cr...   \n",
       "45474  [{'cast_id': 2, 'character': '', 'credit_id': ...   \n",
       "45475                                                 []   \n",
       "\n",
       "                                                    crew      id  \n",
       "0      [{'credit_id': '52fe4284c3a36847f8024f49', 'de...     862  \n",
       "1      [{'credit_id': '52fe44bfc3a36847f80a7cd1', 'de...    8844  \n",
       "2      [{'credit_id': '52fe466a9251416c75077a89', 'de...   15602  \n",
       "3      [{'credit_id': '52fe44779251416c91011acb', 'de...   31357  \n",
       "4      [{'credit_id': '52fe44959251416c75039ed7', 'de...   11862  \n",
       "...                                                  ...     ...  \n",
       "45471  [{'credit_id': '5894a97d925141426c00818c', 'de...  439050  \n",
       "45472  [{'credit_id': '52fe4af1c3a36847f81e9b15', 'de...  111109  \n",
       "45473  [{'credit_id': '52fe4776c3a368484e0c8387', 'de...   67758  \n",
       "45474  [{'credit_id': '533bccebc3a36844cf0011a7', 'de...  227506  \n",
       "45475  [{'credit_id': '593e676c92514105b702e68e', 'de...  461257  \n",
       "\n",
       "[45476 rows x 3 columns]"
      ]
     },
     "execution_count": 4,
     "metadata": {},
     "output_type": "execute_result"
    }
   ],
   "source": [
    "credits"
   ]
  },
  {
   "attachments": {},
   "cell_type": "markdown",
   "metadata": {},
   "source": [
    "Hay que confirmar que la data se parseó correctamente"
   ]
  },
  {
   "cell_type": "code",
   "execution_count": 5,
   "metadata": {},
   "outputs": [
    {
     "data": {
      "text/plain": [
       "array([False,  True])"
      ]
     },
     "execution_count": 5,
     "metadata": {},
     "output_type": "execute_result"
    }
   ],
   "source": [
    "data.adult.unique()"
   ]
  },
  {
   "attachments": {},
   "cell_type": "markdown",
   "metadata": {},
   "source": [
    "Vemos que hay algunos saltos de linea innecesarios"
   ]
  },
  {
   "cell_type": "code",
   "execution_count": 6,
   "metadata": {},
   "outputs": [
    {
     "data": {
      "text/html": [
       "<div>\n",
       "<style scoped>\n",
       "    .dataframe tbody tr th:only-of-type {\n",
       "        vertical-align: middle;\n",
       "    }\n",
       "\n",
       "    .dataframe tbody tr th {\n",
       "        vertical-align: top;\n",
       "    }\n",
       "\n",
       "    .dataframe thead th {\n",
       "        text-align: right;\n",
       "    }\n",
       "</style>\n",
       "<table border=\"1\" class=\"dataframe\">\n",
       "  <thead>\n",
       "    <tr style=\"text-align: right;\">\n",
       "      <th></th>\n",
       "      <th>adult</th>\n",
       "      <th>belongs_to_collection</th>\n",
       "      <th>budget</th>\n",
       "      <th>genres</th>\n",
       "      <th>homepage</th>\n",
       "      <th>id</th>\n",
       "      <th>imdb_id</th>\n",
       "      <th>original_language</th>\n",
       "      <th>original_title</th>\n",
       "      <th>overview</th>\n",
       "      <th>...</th>\n",
       "      <th>release_date</th>\n",
       "      <th>revenue</th>\n",
       "      <th>runtime</th>\n",
       "      <th>spoken_languages</th>\n",
       "      <th>status</th>\n",
       "      <th>tagline</th>\n",
       "      <th>title</th>\n",
       "      <th>video</th>\n",
       "      <th>vote_average</th>\n",
       "      <th>vote_count</th>\n",
       "    </tr>\n",
       "  </thead>\n",
       "  <tbody>\n",
       "  </tbody>\n",
       "</table>\n",
       "<p>0 rows × 24 columns</p>\n",
       "</div>"
      ],
      "text/plain": [
       "Empty DataFrame\n",
       "Columns: [adult, belongs_to_collection, budget, genres, homepage, id, imdb_id, original_language, original_title, overview, popularity, poster_path, production_companies, production_countries, release_date, revenue, runtime, spoken_languages, status, tagline, title, video, vote_average, vote_count]\n",
       "Index: []\n",
       "\n",
       "[0 rows x 24 columns]"
      ]
     },
     "execution_count": 6,
     "metadata": {},
     "output_type": "execute_result"
    }
   ],
   "source": [
    "data[data.adult == \" - Written by Ørnås\"]"
   ]
  },
  {
   "cell_type": "code",
   "execution_count": 7,
   "metadata": {},
   "outputs": [
    {
     "data": {
      "text/html": [
       "<div>\n",
       "<style scoped>\n",
       "    .dataframe tbody tr th:only-of-type {\n",
       "        vertical-align: middle;\n",
       "    }\n",
       "\n",
       "    .dataframe tbody tr th {\n",
       "        vertical-align: top;\n",
       "    }\n",
       "\n",
       "    .dataframe thead th {\n",
       "        text-align: right;\n",
       "    }\n",
       "</style>\n",
       "<table border=\"1\" class=\"dataframe\">\n",
       "  <thead>\n",
       "    <tr style=\"text-align: right;\">\n",
       "      <th></th>\n",
       "      <th>adult</th>\n",
       "      <th>belongs_to_collection</th>\n",
       "      <th>budget</th>\n",
       "      <th>genres</th>\n",
       "      <th>homepage</th>\n",
       "      <th>id</th>\n",
       "      <th>imdb_id</th>\n",
       "      <th>original_language</th>\n",
       "      <th>original_title</th>\n",
       "      <th>overview</th>\n",
       "      <th>...</th>\n",
       "      <th>release_date</th>\n",
       "      <th>revenue</th>\n",
       "      <th>runtime</th>\n",
       "      <th>spoken_languages</th>\n",
       "      <th>status</th>\n",
       "      <th>tagline</th>\n",
       "      <th>title</th>\n",
       "      <th>video</th>\n",
       "      <th>vote_average</th>\n",
       "      <th>vote_count</th>\n",
       "    </tr>\n",
       "  </thead>\n",
       "  <tbody>\n",
       "    <tr>\n",
       "      <th>19729</th>\n",
       "      <td>False</td>\n",
       "      <td>NaN</td>\n",
       "      <td>0</td>\n",
       "      <td>[{'id': 28, 'name': 'Action'}, {'id': 53, 'nam...</td>\n",
       "      <td>NaN</td>\n",
       "      <td>82663</td>\n",
       "      <td>tt0113002</td>\n",
       "      <td>en</td>\n",
       "      <td>Midnight Man</td>\n",
       "      <td>British soldiers force a recently captured IRA...</td>\n",
       "      <td>...</td>\n",
       "      <td>1997-08-20</td>\n",
       "      <td>0</td>\n",
       "      <td>104.0</td>\n",
       "      <td>[{'iso_639_1': 'en', 'name': 'English'}]</td>\n",
       "      <td>Released</td>\n",
       "      <td>NaN</td>\n",
       "      <td>Midnight Man</td>\n",
       "      <td>False</td>\n",
       "      <td>6.0</td>\n",
       "      <td>1</td>\n",
       "    </tr>\n",
       "    <tr>\n",
       "      <th>19730</th>\n",
       "      <td>False</td>\n",
       "      <td>NaN</td>\n",
       "      <td>21000000</td>\n",
       "      <td>[{'id': 18, 'name': 'Drama'}, {'id': 35, 'name...</td>\n",
       "      <td>http://silverliningsplaybookmovie.com/</td>\n",
       "      <td>82693</td>\n",
       "      <td>tt1045658</td>\n",
       "      <td>en</td>\n",
       "      <td>Silver Linings Playbook</td>\n",
       "      <td>After spending eight months in a mental instit...</td>\n",
       "      <td>...</td>\n",
       "      <td>2012-09-08</td>\n",
       "      <td>205738714</td>\n",
       "      <td>122.0</td>\n",
       "      <td>[{'iso_639_1': 'en', 'name': 'English'}]</td>\n",
       "      <td>Released</td>\n",
       "      <td>Watch For The Signs</td>\n",
       "      <td>Silver Linings Playbook</td>\n",
       "      <td>False</td>\n",
       "      <td>7.0</td>\n",
       "      <td>4840</td>\n",
       "    </tr>\n",
       "    <tr>\n",
       "      <th>19731</th>\n",
       "      <td>False</td>\n",
       "      <td>NaN</td>\n",
       "      <td>31000000</td>\n",
       "      <td>[{'id': 18, 'name': 'Drama'}]</td>\n",
       "      <td>http://www.paramount.com/flight</td>\n",
       "      <td>87502</td>\n",
       "      <td>tt1907668</td>\n",
       "      <td>en</td>\n",
       "      <td>Flight</td>\n",
       "      <td>Commercial airline pilot Whip Whitaker has a p...</td>\n",
       "      <td>...</td>\n",
       "      <td>2012-11-02</td>\n",
       "      <td>161772375</td>\n",
       "      <td>138.0</td>\n",
       "      <td>[{'iso_639_1': 'en', 'name': 'English'}]</td>\n",
       "      <td>Released</td>\n",
       "      <td>NaN</td>\n",
       "      <td>Flight</td>\n",
       "      <td>False</td>\n",
       "      <td>6.5</td>\n",
       "      <td>2449</td>\n",
       "    </tr>\n",
       "  </tbody>\n",
       "</table>\n",
       "<p>3 rows × 24 columns</p>\n",
       "</div>"
      ],
      "text/plain": [
       "       adult belongs_to_collection    budget  \\\n",
       "19729  False                   NaN         0   \n",
       "19730  False                   NaN  21000000   \n",
       "19731  False                   NaN  31000000   \n",
       "\n",
       "                                                  genres  \\\n",
       "19729  [{'id': 28, 'name': 'Action'}, {'id': 53, 'nam...   \n",
       "19730  [{'id': 18, 'name': 'Drama'}, {'id': 35, 'name...   \n",
       "19731                      [{'id': 18, 'name': 'Drama'}]   \n",
       "\n",
       "                                     homepage     id    imdb_id  \\\n",
       "19729                                     NaN  82663  tt0113002   \n",
       "19730  http://silverliningsplaybookmovie.com/  82693  tt1045658   \n",
       "19731         http://www.paramount.com/flight  87502  tt1907668   \n",
       "\n",
       "      original_language           original_title  \\\n",
       "19729                en             Midnight Man   \n",
       "19730                en  Silver Linings Playbook   \n",
       "19731                en                   Flight   \n",
       "\n",
       "                                                overview  ...  release_date  \\\n",
       "19729  British soldiers force a recently captured IRA...  ...    1997-08-20   \n",
       "19730  After spending eight months in a mental instit...  ...    2012-09-08   \n",
       "19731  Commercial airline pilot Whip Whitaker has a p...  ...    2012-11-02   \n",
       "\n",
       "         revenue runtime                          spoken_languages    status  \\\n",
       "19729          0   104.0  [{'iso_639_1': 'en', 'name': 'English'}]  Released   \n",
       "19730  205738714   122.0  [{'iso_639_1': 'en', 'name': 'English'}]  Released   \n",
       "19731  161772375   138.0  [{'iso_639_1': 'en', 'name': 'English'}]  Released   \n",
       "\n",
       "                   tagline                    title  video vote_average  \\\n",
       "19729                  NaN             Midnight Man  False          6.0   \n",
       "19730  Watch For The Signs  Silver Linings Playbook  False          7.0   \n",
       "19731                  NaN                   Flight  False          6.5   \n",
       "\n",
       "      vote_count  \n",
       "19729          1  \n",
       "19730       4840  \n",
       "19731       2449  \n",
       "\n",
       "[3 rows x 24 columns]"
      ]
     },
     "execution_count": 7,
     "metadata": {},
     "output_type": "execute_result"
    }
   ],
   "source": [
    "data.iloc[19729:19732]"
   ]
  },
  {
   "cell_type": "code",
   "execution_count": 8,
   "metadata": {},
   "outputs": [],
   "source": [
    "data = pd.read_csv(\"scr/Datasets/movies_dataset.csv\")"
   ]
  },
  {
   "cell_type": "code",
   "execution_count": 9,
   "metadata": {},
   "outputs": [
    {
     "name": "stdout",
     "output_type": "stream",
     "text": [
      "<class 'pandas.core.frame.DataFrame'>\n",
      "RangeIndex: 45463 entries, 0 to 45462\n",
      "Data columns (total 24 columns):\n",
      " #   Column                 Non-Null Count  Dtype  \n",
      "---  ------                 --------------  -----  \n",
      " 0   adult                  45463 non-null  bool   \n",
      " 1   belongs_to_collection  4491 non-null   object \n",
      " 2   budget                 45463 non-null  int64  \n",
      " 3   genres                 45463 non-null  object \n",
      " 4   homepage               7779 non-null   object \n",
      " 5   id                     45463 non-null  int64  \n",
      " 6   imdb_id                45446 non-null  object \n",
      " 7   original_language      45452 non-null  object \n",
      " 8   original_title         45463 non-null  object \n",
      " 9   overview               44509 non-null  object \n",
      " 10  popularity             45463 non-null  float64\n",
      " 11  poster_path            45080 non-null  object \n",
      " 12  production_companies   45463 non-null  object \n",
      " 13  production_countries   45463 non-null  object \n",
      " 14  release_date           45379 non-null  object \n",
      " 15  revenue                45463 non-null  int64  \n",
      " 16  runtime                45206 non-null  float64\n",
      " 17  spoken_languages       45463 non-null  object \n",
      " 18  status                 45382 non-null  object \n",
      " 19  tagline                20413 non-null  object \n",
      " 20  title                  45463 non-null  object \n",
      " 21  video                  45463 non-null  bool   \n",
      " 22  vote_average           45463 non-null  float64\n",
      " 23  vote_count             45463 non-null  int64  \n",
      "dtypes: bool(2), float64(3), int64(4), object(15)\n",
      "memory usage: 7.7+ MB\n"
     ]
    }
   ],
   "source": [
    "data.info()"
   ]
  },
  {
   "attachments": {},
   "cell_type": "markdown",
   "metadata": {},
   "source": [
    "# Transform"
   ]
  },
  {
   "attachments": {},
   "cell_type": "markdown",
   "metadata": {},
   "source": [
    "Valores duplicados"
   ]
  },
  {
   "cell_type": "code",
   "execution_count": 10,
   "metadata": {},
   "outputs": [],
   "source": [
    "data.drop_duplicates(inplace=True)"
   ]
  },
  {
   "attachments": {},
   "cell_type": "markdown",
   "metadata": {},
   "source": [
    "Voy a empezar por las columnas que son innecesarias para este proyecto."
   ]
  },
  {
   "cell_type": "code",
   "execution_count": 11,
   "metadata": {},
   "outputs": [],
   "source": [
    "data.drop(columns=[\"video\", \"imdb_id\", \"adult\", \"original_title\", \"poster_path\", \"homepage\"], inplace=True)"
   ]
  },
  {
   "attachments": {},
   "cell_type": "markdown",
   "metadata": {},
   "source": [
    "## Valores Nulos"
   ]
  },
  {
   "attachments": {},
   "cell_type": "markdown",
   "metadata": {},
   "source": [
    "Hay que corregir los valores nulos de las columnas revenue, budget, release date"
   ]
  },
  {
   "cell_type": "code",
   "execution_count": 12,
   "metadata": {},
   "outputs": [
    {
     "data": {
      "text/html": [
       "<div>\n",
       "<style scoped>\n",
       "    .dataframe tbody tr th:only-of-type {\n",
       "        vertical-align: middle;\n",
       "    }\n",
       "\n",
       "    .dataframe tbody tr th {\n",
       "        vertical-align: top;\n",
       "    }\n",
       "\n",
       "    .dataframe thead th {\n",
       "        text-align: right;\n",
       "    }\n",
       "</style>\n",
       "<table border=\"1\" class=\"dataframe\">\n",
       "  <thead>\n",
       "    <tr style=\"text-align: right;\">\n",
       "      <th></th>\n",
       "      <th>belongs_to_collection</th>\n",
       "      <th>budget</th>\n",
       "      <th>genres</th>\n",
       "      <th>id</th>\n",
       "      <th>original_language</th>\n",
       "      <th>overview</th>\n",
       "      <th>popularity</th>\n",
       "      <th>production_companies</th>\n",
       "      <th>production_countries</th>\n",
       "      <th>release_date</th>\n",
       "      <th>revenue</th>\n",
       "      <th>runtime</th>\n",
       "      <th>spoken_languages</th>\n",
       "      <th>status</th>\n",
       "      <th>tagline</th>\n",
       "      <th>title</th>\n",
       "      <th>vote_average</th>\n",
       "      <th>vote_count</th>\n",
       "    </tr>\n",
       "  </thead>\n",
       "  <tbody>\n",
       "  </tbody>\n",
       "</table>\n",
       "</div>"
      ],
      "text/plain": [
       "Empty DataFrame\n",
       "Columns: [belongs_to_collection, budget, genres, id, original_language, overview, popularity, production_companies, production_countries, release_date, revenue, runtime, spoken_languages, status, tagline, title, vote_average, vote_count]\n",
       "Index: []"
      ]
     },
     "execution_count": 12,
     "metadata": {},
     "output_type": "execute_result"
    }
   ],
   "source": [
    "data[data[\"revenue\"].isna()]"
   ]
  },
  {
   "cell_type": "code",
   "execution_count": 13,
   "metadata": {},
   "outputs": [
    {
     "data": {
      "text/html": [
       "<div>\n",
       "<style scoped>\n",
       "    .dataframe tbody tr th:only-of-type {\n",
       "        vertical-align: middle;\n",
       "    }\n",
       "\n",
       "    .dataframe tbody tr th {\n",
       "        vertical-align: top;\n",
       "    }\n",
       "\n",
       "    .dataframe thead th {\n",
       "        text-align: right;\n",
       "    }\n",
       "</style>\n",
       "<table border=\"1\" class=\"dataframe\">\n",
       "  <thead>\n",
       "    <tr style=\"text-align: right;\">\n",
       "      <th></th>\n",
       "      <th>belongs_to_collection</th>\n",
       "      <th>budget</th>\n",
       "      <th>genres</th>\n",
       "      <th>id</th>\n",
       "      <th>original_language</th>\n",
       "      <th>overview</th>\n",
       "      <th>popularity</th>\n",
       "      <th>production_companies</th>\n",
       "      <th>production_countries</th>\n",
       "      <th>release_date</th>\n",
       "      <th>revenue</th>\n",
       "      <th>runtime</th>\n",
       "      <th>spoken_languages</th>\n",
       "      <th>status</th>\n",
       "      <th>tagline</th>\n",
       "      <th>title</th>\n",
       "      <th>vote_average</th>\n",
       "      <th>vote_count</th>\n",
       "    </tr>\n",
       "  </thead>\n",
       "  <tbody>\n",
       "  </tbody>\n",
       "</table>\n",
       "</div>"
      ],
      "text/plain": [
       "Empty DataFrame\n",
       "Columns: [belongs_to_collection, budget, genres, id, original_language, overview, popularity, production_companies, production_countries, release_date, revenue, runtime, spoken_languages, status, tagline, title, vote_average, vote_count]\n",
       "Index: []"
      ]
     },
     "execution_count": 13,
     "metadata": {},
     "output_type": "execute_result"
    }
   ],
   "source": [
    "data[data[\"budget\"].isna()]"
   ]
  },
  {
   "attachments": {},
   "cell_type": "markdown",
   "metadata": {},
   "source": [
    "## Fechas"
   ]
  },
  {
   "attachments": {},
   "cell_type": "markdown",
   "metadata": {},
   "source": [
    "Existen valores nulos en el campo de fecha, así que los eliminamos"
   ]
  },
  {
   "cell_type": "code",
   "execution_count": 14,
   "metadata": {},
   "outputs": [
    {
     "data": {
      "text/plain": [
       "(84, 18)"
      ]
     },
     "execution_count": 14,
     "metadata": {},
     "output_type": "execute_result"
    }
   ],
   "source": [
    "data[data[\"release_date\"].isna()].shape"
   ]
  },
  {
   "cell_type": "code",
   "execution_count": 15,
   "metadata": {},
   "outputs": [],
   "source": [
    "data.dropna(subset=\"release_date\", inplace=True)"
   ]
  },
  {
   "attachments": {},
   "cell_type": "markdown",
   "metadata": {},
   "source": [
    "Las fechas deben tener un formato concreto, además se agregará una nueva columna con el año."
   ]
  },
  {
   "cell_type": "code",
   "execution_count": 16,
   "metadata": {},
   "outputs": [
    {
     "data": {
      "text/plain": [
       "0        1995-10-30\n",
       "1        1995-12-15\n",
       "2        1995-12-22\n",
       "3        1995-12-22\n",
       "4        1995-02-10\n",
       "            ...    \n",
       "45457    1991-05-13\n",
       "45459    2011-11-17\n",
       "45460    2003-08-01\n",
       "45461    1917-10-21\n",
       "45462    2017-06-09\n",
       "Name: release_date, Length: 45362, dtype: object"
      ]
     },
     "execution_count": 16,
     "metadata": {},
     "output_type": "execute_result"
    }
   ],
   "source": [
    "data[\"release_date\"]"
   ]
  },
  {
   "cell_type": "code",
   "execution_count": 17,
   "metadata": {},
   "outputs": [],
   "source": [
    "data['release_date'] = pd.to_datetime(data['release_date'], format='%Y-%m-%d', errors='coerce')"
   ]
  },
  {
   "cell_type": "code",
   "execution_count": 18,
   "metadata": {},
   "outputs": [
    {
     "data": {
      "text/plain": [
       "0        1995\n",
       "1        1995\n",
       "2        1995\n",
       "3        1995\n",
       "4        1995\n",
       "         ... \n",
       "45457    1991\n",
       "45459    2011\n",
       "45460    2003\n",
       "45461    1917\n",
       "45462    2017\n",
       "Name: release_year, Length: 45362, dtype: int64"
      ]
     },
     "execution_count": 18,
     "metadata": {},
     "output_type": "execute_result"
    }
   ],
   "source": [
    "data[\"release_year\"] = data['release_date'].apply(lambda x:x.year)\n",
    "data[\"release_year\"]"
   ]
  },
  {
   "attachments": {},
   "cell_type": "markdown",
   "metadata": {},
   "source": [
    "## Revenue y Budget"
   ]
  },
  {
   "attachments": {},
   "cell_type": "markdown",
   "metadata": {},
   "source": [
    "Se debe calcular el retorno de inversión, esto se hará con la columnas revenue y budget."
   ]
  },
  {
   "cell_type": "code",
   "execution_count": 19,
   "metadata": {},
   "outputs": [
    {
     "data": {
      "text/plain": [
       "0        12.451801\n",
       "1         4.043035\n",
       "2              NaN\n",
       "3         5.090760\n",
       "4              inf\n",
       "           ...    \n",
       "45457          NaN\n",
       "45459          NaN\n",
       "45460          NaN\n",
       "45461          NaN\n",
       "45462          NaN\n",
       "Name: return, Length: 45362, dtype: float64"
      ]
     },
     "execution_count": 19,
     "metadata": {},
     "output_type": "execute_result"
    }
   ],
   "source": [
    "data[\"return\"] = data[\"revenue\"] / data[\"budget\"]\n",
    "data[\"return\"]"
   ]
  },
  {
   "attachments": {},
   "cell_type": "markdown",
   "metadata": {},
   "source": [
    "Vemos que quedaron valores extraños (Nan, inf), dado que existen divisiones entre 0 o valores faltantes. Entonces los reemplazamos por 0."
   ]
  },
  {
   "cell_type": "code",
   "execution_count": 20,
   "metadata": {},
   "outputs": [],
   "source": [
    "data[\"return\"].fillna(0, inplace=True)"
   ]
  },
  {
   "cell_type": "code",
   "execution_count": 21,
   "metadata": {},
   "outputs": [],
   "source": [
    "data[\"return\"].replace([np.inf, -np.inf], 0, inplace=True)"
   ]
  },
  {
   "cell_type": "code",
   "execution_count": 22,
   "metadata": {},
   "outputs": [
    {
     "data": {
      "text/plain": [
       "(0, 20)"
      ]
     },
     "execution_count": 22,
     "metadata": {},
     "output_type": "execute_result"
    }
   ],
   "source": [
    "data[data[\"return\"].isna()].shape"
   ]
  },
  {
   "cell_type": "code",
   "execution_count": 23,
   "metadata": {},
   "outputs": [
    {
     "data": {
      "text/plain": [
       "0        12.451801\n",
       "1         4.043035\n",
       "2         0.000000\n",
       "3         5.090760\n",
       "4         0.000000\n",
       "           ...    \n",
       "45457     0.000000\n",
       "45459     0.000000\n",
       "45460     0.000000\n",
       "45461     0.000000\n",
       "45462     0.000000\n",
       "Name: return, Length: 45362, dtype: float64"
      ]
     },
     "execution_count": 23,
     "metadata": {},
     "output_type": "execute_result"
    }
   ],
   "source": [
    "data[\"return\"]"
   ]
  },
  {
   "attachments": {},
   "cell_type": "markdown",
   "metadata": {},
   "source": [
    "## Columnas Anidadas"
   ]
  },
  {
   "attachments": {},
   "cell_type": "markdown",
   "metadata": {},
   "source": [
    "Existen columnas con filas de datos las cuales son un problema. Propongo crear nuevas tablas para guardar todos los datos. Aunque no dejaré los id para referenciar la tabla, sino que dejaré los nombres. Pues sólo es necesario el campo 'name' de los diccionarios dentro de la lista, y será más sencillo para una posterior búsqueda."
   ]
  },
  {
   "attachments": {},
   "cell_type": "markdown",
   "metadata": {},
   "source": [
    "Entonces se reemplazará la lista de diccionarios por una lista de nombres."
   ]
  },
  {
   "cell_type": "code",
   "execution_count": 24,
   "metadata": {},
   "outputs": [],
   "source": [
    "belongs_to_collection = data['belongs_to_collection'].copy()\n",
    "genres = data['genres'].copy()\n",
    "production_companies = data['production_companies'].copy()\n",
    "production_countries = data['production_countries'].copy()\n",
    "spoken_languages = data['spoken_languages'].copy()\n",
    "crew = credits['crew'].copy()\n",
    "cast = credits['cast'].copy()"
   ]
  },
  {
   "attachments": {},
   "cell_type": "markdown",
   "metadata": {},
   "source": [
    "### Columnas: belongs_to_collection, genres, production_companies, production_countries, spoken_languages"
   ]
  },
  {
   "attachments": {},
   "cell_type": "markdown",
   "metadata": {},
   "source": [
    "La siguiente función extrae el nombre (name) o atributo que se desea, de cada diccionario en la lista.\n",
    "tiene como entrada:\n",
    "    obj: lista de diccionarios, \n",
    "    name: key que se desa extraer.\n",
    "Y como salida:\n",
    "    lista de 'name' de todos los diccionarios."
   ]
  },
  {
   "cell_type": "code",
   "execution_count": 25,
   "metadata": {},
   "outputs": [],
   "source": [
    "def fetch_name(obj, name = 'name'): \n",
    "    output=[]\n",
    "    \n",
    "    if obj is (None or []) or pd.isna(obj):\n",
    "        return []\n",
    "    \n",
    "    if type(ast.literal_eval(obj)) == dict:\n",
    "        output.append(ast.literal_eval(obj)[name])\n",
    "    else:\n",
    "        for i in ast.literal_eval(obj):\n",
    "            output.append(i[name])\n",
    "    return output"
   ]
  },
  {
   "cell_type": "code",
   "execution_count": 26,
   "metadata": {},
   "outputs": [
    {
     "data": {
      "text/plain": [
       "0        {'id': 10194, 'name': 'Toy Story Collection', ...\n",
       "1                                                      NaN\n",
       "2        {'id': 119050, 'name': 'Grumpy Old Men Collect...\n",
       "3                                                      NaN\n",
       "4        {'id': 96871, 'name': 'Father of the Bride Col...\n",
       "                               ...                        \n",
       "45457                                                  NaN\n",
       "45459                                                  NaN\n",
       "45460                                                  NaN\n",
       "45461                                                  NaN\n",
       "45462                                                  NaN\n",
       "Name: belongs_to_collection, Length: 45362, dtype: object"
      ]
     },
     "execution_count": 26,
     "metadata": {},
     "output_type": "execute_result"
    }
   ],
   "source": [
    "data[\"belongs_to_collection\"]"
   ]
  },
  {
   "cell_type": "code",
   "execution_count": 27,
   "metadata": {},
   "outputs": [
    {
     "data": {
      "text/plain": [
       "0                  [Toy Story Collection]\n",
       "1                                      []\n",
       "2             [Grumpy Old Men Collection]\n",
       "3                                      []\n",
       "4        [Father of the Bride Collection]\n",
       "                       ...               \n",
       "45457                                  []\n",
       "45459                                  []\n",
       "45460                                  []\n",
       "45461                                  []\n",
       "45462                                  []\n",
       "Name: belongs_to_collection, Length: 45362, dtype: object"
      ]
     },
     "execution_count": 27,
     "metadata": {},
     "output_type": "execute_result"
    }
   ],
   "source": [
    "data[\"belongs_to_collection\"].apply(lambda x: fetch_name(x))"
   ]
  },
  {
   "attachments": {},
   "cell_type": "markdown",
   "metadata": {},
   "source": [
    "Aplicando tambien a las demás columnas anidadas de movies_dataset:"
   ]
  },
  {
   "cell_type": "code",
   "execution_count": 28,
   "metadata": {},
   "outputs": [],
   "source": [
    "data[\"belongs_to_collection\"] = data[\"belongs_to_collection\"].apply(lambda x: fetch_name(x))\n",
    "data[\"genres\"] = data[\"genres\"].apply(lambda x: fetch_name(x))\n",
    "data[\"production_companies\"] = data[\"production_companies\"].apply(lambda x: fetch_name(x))\n",
    "data[\"production_countries\"] = data[\"production_countries\"].apply(lambda x: fetch_name(x))\n",
    "data[\"spoken_languages\"] = data[\"spoken_languages\"].apply(lambda x: fetch_name(x, name='iso_639_1'))"
   ]
  },
  {
   "attachments": {},
   "cell_type": "markdown",
   "metadata": {},
   "source": [
    "### Columnas: crew, cast. Tabla credits"
   ]
  },
  {
   "attachments": {},
   "cell_type": "markdown",
   "metadata": {},
   "source": [
    "La siguiente función es una extensión de la anterior, extrae el 'name' sólo de los diccionarios en los que el valor de 'filter' poseen.\n",
    "tiene como entrada:\n",
    "    obj: lista de diccionarios, \n",
    "    name: key que se desa extraer, \n",
    "    filter: un diccionario con llave que se desea filtrar y valor del filtro.\n",
    "Y como salida:\n",
    "    lista de 'name' de los diccionarios."
   ]
  },
  {
   "cell_type": "code",
   "execution_count": 29,
   "metadata": {},
   "outputs": [],
   "source": [
    "def fetch_name_2(obj, name, filter : dict):\n",
    "    output=[]\n",
    "\n",
    "    if obj is (None or []) or pd.isna(obj):\n",
    "        return []\n",
    "    \n",
    "    if type(ast.literal_eval(obj)) == dict:\n",
    "        output.append(ast.literal_eval(obj)[name])\n",
    "    else:\n",
    "        for i in ast.literal_eval(obj):\n",
    "            for key, value in filter.items():\n",
    "                if str.lower(i[key]) == str.lower(value):\n",
    "                    output.append(i[name])\n",
    "    return output"
   ]
  },
  {
   "cell_type": "code",
   "execution_count": 30,
   "metadata": {},
   "outputs": [
    {
     "data": {
      "text/plain": [
       "'[{\\'credit_id\\': \\'52fe4284c3a36847f8024f49\\', \\'department\\': \\'Directing\\', \\'gender\\': 2, \\'id\\': 7879, \\'job\\': \\'Director\\', \\'name\\': \\'John Lasseter\\', \\'profile_path\\': \\'/7EdqiNbr4FRjIhKHyPPdFfEEEFG.jpg\\'}, {\\'credit_id\\': \\'52fe4284c3a36847f8024f4f\\', \\'department\\': \\'Writing\\', \\'gender\\': 2, \\'id\\': 12891, \\'job\\': \\'Screenplay\\', \\'name\\': \\'Joss Whedon\\', \\'profile_path\\': \\'/dTiVsuaTVTeGmvkhcyJvKp2A5kr.jpg\\'}, {\\'credit_id\\': \\'52fe4284c3a36847f8024f55\\', \\'department\\': \\'Writing\\', \\'gender\\': 2, \\'id\\': 7, \\'job\\': \\'Screenplay\\', \\'name\\': \\'Andrew Stanton\\', \\'profile_path\\': \\'/pvQWsu0qc8JFQhMVJkTHuexUAa1.jpg\\'}, {\\'credit_id\\': \\'52fe4284c3a36847f8024f5b\\', \\'department\\': \\'Writing\\', \\'gender\\': 2, \\'id\\': 12892, \\'job\\': \\'Screenplay\\', \\'name\\': \\'Joel Cohen\\', \\'profile_path\\': \\'/dAubAiZcvKFbboWlj7oXOkZnTSu.jpg\\'}, {\\'credit_id\\': \\'52fe4284c3a36847f8024f61\\', \\'department\\': \\'Writing\\', \\'gender\\': 0, \\'id\\': 12893, \\'job\\': \\'Screenplay\\', \\'name\\': \\'Alec Sokolow\\', \\'profile_path\\': \\'/v79vlRYi94BZUQnkkyznbGUZLjT.jpg\\'}, {\\'credit_id\\': \\'52fe4284c3a36847f8024f67\\', \\'department\\': \\'Production\\', \\'gender\\': 1, \\'id\\': 12894, \\'job\\': \\'Producer\\', \\'name\\': \\'Bonnie Arnold\\', \\'profile_path\\': None}, {\\'credit_id\\': \\'52fe4284c3a36847f8024f6d\\', \\'department\\': \\'Production\\', \\'gender\\': 0, \\'id\\': 12895, \\'job\\': \\'Executive Producer\\', \\'name\\': \\'Ed Catmull\\', \\'profile_path\\': None}, {\\'credit_id\\': \\'52fe4284c3a36847f8024f73\\', \\'department\\': \\'Production\\', \\'gender\\': 2, \\'id\\': 12896, \\'job\\': \\'Producer\\', \\'name\\': \\'Ralph Guggenheim\\', \\'profile_path\\': None}, {\\'credit_id\\': \\'52fe4284c3a36847f8024f79\\', \\'department\\': \\'Production\\', \\'gender\\': 2, \\'id\\': 12897, \\'job\\': \\'Executive Producer\\', \\'name\\': \\'Steve Jobs\\', \\'profile_path\\': \\'/mOMP3SwD5qWQSR0ldCIByd3guTV.jpg\\'}, {\\'credit_id\\': \\'52fe4284c3a36847f8024f8b\\', \\'department\\': \\'Editing\\', \\'gender\\': 2, \\'id\\': 8, \\'job\\': \\'Editor\\', \\'name\\': \\'Lee Unkrich\\', \\'profile_path\\': \\'/bdTCCXjgOV3YyaNmLGYGOxFQMOc.jpg\\'}, {\\'credit_id\\': \\'52fe4284c3a36847f8024f91\\', \\'department\\': \\'Art\\', \\'gender\\': 2, \\'id\\': 7883, \\'job\\': \\'Art Direction\\', \\'name\\': \\'Ralph Eggleston\\', \\'profile_path\\': \\'/uUfcGKDsKO1aROMpXRs67Hn6RvR.jpg\\'}, {\\'credit_id\\': \\'598331bf925141421201044b\\', \\'department\\': \\'Editing\\', \\'gender\\': 2, \\'id\\': 1168870, \\'job\\': \\'Editor\\', \\'name\\': \\'Robert Gordon\\', \\'profile_path\\': None}, {\\'credit_id\\': \\'5892168cc3a36809660095f9\\', \\'department\\': \\'Sound\\', \\'gender\\': 0, \\'id\\': 1552883, \\'job\\': \\'Foley Editor\\', \\'name\\': \\'Mary Helen Leasman\\', \\'profile_path\\': None}, {\\'credit_id\\': \\'5531824d9251415289000945\\', \\'department\\': \\'Visual Effects\\', \\'gender\\': 0, \\'id\\': 1453514, \\'job\\': \\'Animation\\', \\'name\\': \\'Kim Blanchette\\', \\'profile_path\\': None}, {\\'credit_id\\': \\'589215969251412dcb009bf6\\', \\'department\\': \\'Sound\\', \\'gender\\': 0, \\'id\\': 1414182, \\'job\\': \\'ADR Editor\\', \\'name\\': \\'Marilyn McCoppen\\', \\'profile_path\\': None}, {\\'credit_id\\': \\'589217099251412dc500a018\\', \\'department\\': \\'Sound\\', \\'gender\\': 2, \\'id\\': 7885, \\'job\\': \\'Orchestrator\\', \\'name\\': \\'Randy Newman\\', \\'profile_path\\': \\'/w0JzfoiM25nrnxYOzosPHRq6mlE.jpg\\'}, {\\'credit_id\\': \\'5693e6b29251417b0e0000e3\\', \\'department\\': \\'Editing\\', \\'gender\\': 0, \\'id\\': 1429549, \\'job\\': \\'Color Timer\\', \\'name\\': \\'Dale E. Grahn\\', \\'profile_path\\': None}, {\\'credit_id\\': \\'572e2522c3a36869e6001a9c\\', \\'department\\': \\'Visual Effects\\', \\'gender\\': 0, \\'id\\': 7949, \\'job\\': \\'CG Painter\\', \\'name\\': \\'Robin Cooper\\', \\'profile_path\\': None}, {\\'credit_id\\': \\'574f12309251415ca1000012\\', \\'department\\': \\'Writing\\', \\'gender\\': 2, \\'id\\': 7879, \\'job\\': \\'Original Story\\', \\'name\\': \\'John Lasseter\\', \\'profile_path\\': \\'/7EdqiNbr4FRjIhKHyPPdFfEEEFG.jpg\\'}, {\\'credit_id\\': \\'574f1240c3a3682e7300001c\\', \\'department\\': \\'Writing\\', \\'gender\\': 2, \\'id\\': 12890, \\'job\\': \\'Original Story\\', \\'name\\': \\'Pete Docter\\', \\'profile_path\\': \\'/r6ngPgnReA3RHmKjmSoVsc6Awjp.jpg\\'}, {\\'credit_id\\': \\'574f12519251415c92000015\\', \\'department\\': \\'Writing\\', \\'gender\\': 0, \\'id\\': 7911, \\'job\\': \\'Original Story\\', \\'name\\': \\'Joe Ranft\\', \\'profile_path\\': \\'/f1BoWC2JbCcfP1e5hKfGsxkHzVU.jpg\\'}, {\\'credit_id\\': \\'574f12cec3a3682e82000022\\', \\'department\\': \\'Crew\\', \\'gender\\': 0, \\'id\\': 1629419, \\'job\\': \\'Post Production Supervisor\\', \\'name\\': \\'Patsy Bouge\\', \\'profile_path\\': None}, {\\'credit_id\\': \\'574f14f19251415ca1000082\\', \\'department\\': \\'Art\\', \\'gender\\': 0, \\'id\\': 7961, \\'job\\': \\'Sculptor\\', \\'name\\': \\'Norm DeCarlo\\', \\'profile_path\\': None}, {\\'credit_id\\': \\'5751ae4bc3a3683772002b7f\\', \\'department\\': \\'Visual Effects\\', \\'gender\\': 2, \\'id\\': 12905, \\'job\\': \\'Animation Director\\', \\'name\\': \\'Ash Brannon\\', \\'profile_path\\': \\'/6ueWgPEEBHvS3De2BHYQnYjRTig.jpg\\'}, {\\'credit_id\\': \\'5891edbe9251412dc5007cd6\\', \\'department\\': \\'Sound\\', \\'gender\\': 2, \\'id\\': 7885, \\'job\\': \\'Music\\', \\'name\\': \\'Randy Newman\\', \\'profile_path\\': \\'/w0JzfoiM25nrnxYOzosPHRq6mlE.jpg\\'}, {\\'credit_id\\': \\'589213d39251412dc8009832\\', \\'department\\': \\'Directing\\', \\'gender\\': 0, \\'id\\': 1748707, \\'job\\': \\'Layout\\', \\'name\\': \\'Roman Figun\\', \\'profile_path\\': None}, {\\'credit_id\\': \\'5892173dc3a3680968009351\\', \\'department\\': \\'Sound\\', \\'gender\\': 2, \\'id\\': 4949, \\'job\\': \\'Orchestrator\\', \\'name\\': \\'Don Davis\\', \\'profile_path\\': None}, {\\'credit_id\\': \\'589217cec3a3686b0a0052ba\\', \\'department\\': \\'Sound\\', \\'gender\\': 0, \\'id\\': 1372885, \\'job\\': \\'Music Editor\\', \\'name\\': \\'James Flamberg\\', \\'profile_path\\': None}, {\\'credit_id\\': \\'58921831c3a3686348004a64\\', \\'department\\': \\'Editing\\', \\'gender\\': 0, \\'id\\': 1739962, \\'job\\': \\'Negative Cutter\\', \\'name\\': \\'Mary Beth Smith\\', \\'profile_path\\': None}, {\\'credit_id\\': \\'58921838c3a36809700096c0\\', \\'department\\': \\'Editing\\', \\'gender\\': 0, \\'id\\': 1748513, \\'job\\': \\'Negative Cutter\\', \\'name\\': \\'Rick Mackay\\', \\'profile_path\\': None}, {\\'credit_id\\': \\'589218429251412dd1009d1b\\', \\'department\\': \\'Art\\', \\'gender\\': 0, \\'id\\': 1458006, \\'job\\': \\'Title Designer\\', \\'name\\': \\'Susan Bradley\\', \\'profile_path\\': None}, {\\'credit_id\\': \\'5891ed99c3a3680966007670\\', \\'department\\': \\'Crew\\', \\'gender\\': 0, \\'id\\': 1748557, \\'job\\': \\'Supervising Technical Director\\', \\'name\\': \\'William Reeves\\', \\'profile_path\\': None}, {\\'credit_id\\': \\'5891edcec3a3686b0a002eb2\\', \\'department\\': \\'Sound\\', \\'gender\\': 2, \\'id\\': 7885, \\'job\\': \\'Songs\\', \\'name\\': \\'Randy Newman\\', \\'profile_path\\': \\'/w0JzfoiM25nrnxYOzosPHRq6mlE.jpg\\'}, {\\'credit_id\\': \\'5891edf9c3a36809700075e6\\', \\'department\\': \\'Writing\\', \\'gender\\': 2, \\'id\\': 7, \\'job\\': \\'Original Story\\', \\'name\\': \\'Andrew Stanton\\', \\'profile_path\\': \\'/pvQWsu0qc8JFQhMVJkTHuexUAa1.jpg\\'}, {\\'credit_id\\': \\'58920f0b9251412dd7009104\\', \\'department\\': \\'Crew\\', \\'gender\\': 2, \\'id\\': 12890, \\'job\\': \\'Supervising Animator\\', \\'name\\': \\'Pete Docter\\', \\'profile_path\\': \\'/r6ngPgnReA3RHmKjmSoVsc6Awjp.jpg\\'}, {\\'credit_id\\': \\'58920f1fc3a3680977009021\\', \\'department\\': \\'Sound\\', \\'gender\\': 2, \\'id\\': 2216, \\'job\\': \\'Sound Designer\\', \\'name\\': \\'Gary Rydstrom\\', \\'profile_path\\': \\'/jZpr1nVfO7lldWI0YtmP1FGw7Rj.jpg\\'}, {\\'credit_id\\': \\'58920f389251412dd700912d\\', \\'department\\': \\'Production\\', \\'gender\\': 0, \\'id\\': 12909, \\'job\\': \\'Production Supervisor\\', \\'name\\': \\'Karen Robert Jackson\\', \\'profile_path\\': None}, {\\'credit_id\\': \\'58920fbd9251412dcb00969c\\', \\'department\\': \\'Crew\\', \\'gender\\': 0, \\'id\\': 953331, \\'job\\': \\'Executive Music Producer\\', \\'name\\': \\'Chris Montan\\', \\'profile_path\\': None}, {\\'credit_id\\': \\'589210069251412dd7009219\\', \\'department\\': \\'Visual Effects\\', \\'gender\\': 0, \\'id\\': 7893, \\'job\\': \\'Animation Director\\', \\'name\\': \\'Rich Quade\\', \\'profile_path\\': None}, {\\'credit_id\\': \\'589210329251412dcd00943b\\', \\'department\\': \\'Visual Effects\\', \\'gender\\': 0, \\'id\\': 8025, \\'job\\': \\'Animation\\', \\'name\\': \\'Michael Berenstein\\', \\'profile_path\\': None}, {\\'credit_id\\': \\'5892103bc3a368096a009180\\', \\'department\\': \\'Visual Effects\\', \\'gender\\': 0, \\'id\\': 78009, \\'job\\': \\'Animation\\', \\'name\\': \\'Colin Brady\\', \\'profile_path\\': None}, {\\'credit_id\\': \\'5892105dc3a3680968008db2\\', \\'department\\': \\'Visual Effects\\', \\'gender\\': 0, \\'id\\': 1748682, \\'job\\': \\'Animation\\', \\'name\\': \\'Davey Crockett Feiten\\', \\'profile_path\\': None}, {\\'credit_id\\': \\'589210669251412dcd009466\\', \\'department\\': \\'Visual Effects\\', \\'gender\\': 0, \\'id\\': 1454030, \\'job\\': \\'Animation\\', \\'name\\': \\'Angie Glocka\\', \\'profile_path\\': None}, {\\'credit_id\\': \\'5892107c9251412dd1009613\\', \\'department\\': \\'Visual Effects\\', \\'gender\\': 0, \\'id\\': 1748683, \\'job\\': \\'Animation\\', \\'name\\': \\'Rex Grignon\\', \\'profile_path\\': None}, {\\'credit_id\\': \\'5892108ac3a3680973008d3f\\', \\'department\\': \\'Visual Effects\\', \\'gender\\': 0, \\'id\\': 1748684, \\'job\\': \\'Animation\\', \\'name\\': \\'Tom K. Gurney\\', \\'profile_path\\': None}, {\\'credit_id\\': \\'58921093c3a3686348004477\\', \\'department\\': \\'Visual Effects\\', \\'gender\\': 2, \\'id\\': 8029, \\'job\\': \\'Animation\\', \\'name\\': \\'Jimmy Hayward\\', \\'profile_path\\': \\'/lTDRpudEY7BDwTefXbXzMlmb0ui.jpg\\'}, {\\'credit_id\\': \\'5892109b9251412dcd0094b0\\', \\'department\\': \\'Visual Effects\\', \\'gender\\': 0, \\'id\\': 1426773, \\'job\\': \\'Animation\\', \\'name\\': \\'Hal T. Hickel\\', \\'profile_path\\': None}, {\\'credit_id\\': \\'589210a29251412dc5009a29\\', \\'department\\': \\'Visual Effects\\', \\'gender\\': 0, \\'id\\': 8035, \\'job\\': \\'Animation\\', \\'name\\': \\'Karen Kiser\\', \\'profile_path\\': None}, {\\'credit_id\\': \\'589210ccc3a3680977009191\\', \\'department\\': \\'Visual Effects\\', \\'gender\\': 0, \\'id\\': 1748688, \\'job\\': \\'Animation\\', \\'name\\': \\'Anthony B. LaMolinara\\', \\'profile_path\\': None}, {\\'credit_id\\': \\'589210d7c3a3686b0a004c1f\\', \\'department\\': \\'Visual Effects\\', \\'gender\\': 0, \\'id\\': 587314, \\'job\\': \\'Animation\\', \\'name\\': \\'Guionne Leroy\\', \\'profile_path\\': None}, {\\'credit_id\\': \\'589210e1c3a36809770091a7\\', \\'department\\': \\'Visual Effects\\', \\'gender\\': 2, \\'id\\': 7918, \\'job\\': \\'Animation\\', \\'name\\': \\'Bud Luckey\\', \\'profile_path\\': \\'/pcCh7G19FKMNijmPQg1PMH1btic.jpg\\'}, {\\'credit_id\\': \\'589210ee9251412dc200978a\\', \\'department\\': \\'Visual Effects\\', \\'gender\\': 0, \\'id\\': 1748689, \\'job\\': \\'Animation\\', \\'name\\': \\'Les Major\\', \\'profile_path\\': None}, {\\'credit_id\\': \\'589210fa9251412dc8009595\\', \\'department\\': \\'Visual Effects\\', \\'gender\\': 2, \\'id\\': 7892, \\'job\\': \\'Animation\\', \\'name\\': \\'Glenn McQueen\\', \\'profile_path\\': None}, {\\'credit_id\\': \\'589211029251412dc8009598\\', \\'department\\': \\'Visual Effects\\', \\'gender\\': 0, \\'id\\': 555795, \\'job\\': \\'Animation\\', \\'name\\': \\'Mark Oftedal\\', \\'profile_path\\': None}, {\\'credit_id\\': \\'5892110b9251412dc800959d\\', \\'department\\': \\'Visual Effects\\', \\'gender\\': 2, \\'id\\': 7882, \\'job\\': \\'Animation\\', \\'name\\': \\'Jeff Pidgeon\\', \\'profile_path\\': \\'/yLddkg5HcgbJg00cS13GVBnP0HY.jpg\\'}, {\\'credit_id\\': \\'58921113c3a36863480044e4\\', \\'department\\': \\'Visual Effects\\', \\'gender\\': 0, \\'id\\': 8017, \\'job\\': \\'Animation\\', \\'name\\': \\'Jeff Pratt\\', \\'profile_path\\': None}, {\\'credit_id\\': \\'5892111c9251412dcb0097e9\\', \\'department\\': \\'Visual Effects\\', \\'gender\\': 0, \\'id\\': 1184140, \\'job\\': \\'Animation\\', \\'name\\': \\'Steve Rabatich\\', \\'profile_path\\': None}, {\\'credit_id\\': \\'58921123c3a36809700090f6\\', \\'department\\': \\'Visual Effects\\', \\'gender\\': 0, \\'id\\': 8049, \\'job\\': \\'Animation\\', \\'name\\': \\'Roger Rose\\', \\'profile_path\\': None}, {\\'credit_id\\': \\'5892112b9251412dcb0097fb\\', \\'department\\': \\'Visual Effects\\', \\'gender\\': 0, \\'id\\': 1509559, \\'job\\': \\'Animation\\', \\'name\\': \\'Steve Segal\\', \\'profile_path\\': None}, {\\'credit_id\\': \\'589211349251412dc80095c3\\', \\'department\\': \\'Visual Effects\\', \\'gender\\': 0, \\'id\\': 1748691, \\'job\\': \\'Animation\\', \\'name\\': \\'Doug Sheppeck\\', \\'profile_path\\': None}, {\\'credit_id\\': \\'5892113cc3a3680970009106\\', \\'department\\': \\'Visual Effects\\', \\'gender\\': 0, \\'id\\': 8050, \\'job\\': \\'Animation\\', \\'name\\': \\'Alan Sperling\\', \\'profile_path\\': None}, {\\'credit_id\\': \\'58921148c3a3686b0a004c99\\', \\'department\\': \\'Visual Effects\\', \\'gender\\': 0, \\'id\\': 8010, \\'job\\': \\'Animation\\', \\'name\\': \\'Doug Sweetland\\', \\'profile_path\\': None}, {\\'credit_id\\': \\'58921150c3a3680966009125\\', \\'department\\': \\'Visual Effects\\', \\'gender\\': 0, \\'id\\': 8044, \\'job\\': \\'Animation\\', \\'name\\': \\'David Tart\\', \\'profile_path\\': None}, {\\'credit_id\\': \\'589211629251412dc5009b00\\', \\'department\\': \\'Visual Effects\\', \\'gender\\': 0, \\'id\\': 1454034, \\'job\\': \\'Animation\\', \\'name\\': \\'Ken Willard\\', \\'profile_path\\': None}, {\\'credit_id\\': \\'589211c1c3a3686b0a004d28\\', \\'department\\': \\'Visual Effects\\', \\'gender\\': 0, \\'id\\': 7887, \\'job\\': \\'Visual Effects Supervisor\\', \\'name\\': \\'Thomas Porter\\', \\'profile_path\\': None}, {\\'credit_id\\': \\'589211d4c3a3680968008ed9\\', \\'department\\': \\'Visual Effects\\', \\'gender\\': 0, \\'id\\': 1406878, \\'job\\': \\'Visual Effects\\', \\'name\\': \\'Mark Thomas Henne\\', \\'profile_path\\': None}, {\\'credit_id\\': \\'589211f59251412dd4008e65\\', \\'department\\': \\'Visual Effects\\', \\'gender\\': 0, \\'id\\': 1748698, \\'job\\': \\'Visual Effects\\', \\'name\\': \\'Oren Jacob\\', \\'profile_path\\': None}, {\\'credit_id\\': \\'58921242c3a368096a00939b\\', \\'department\\': \\'Visual Effects\\', \\'gender\\': 0, \\'id\\': 1748699, \\'job\\': \\'Visual Effects\\', \\'name\\': \\'Darwyn Peachey\\', \\'profile_path\\': None}, {\\'credit_id\\': \\'5892124b9251412dc5009bd2\\', \\'department\\': \\'Visual Effects\\', \\'gender\\': 0, \\'id\\': 1748701, \\'job\\': \\'Visual Effects\\', \\'name\\': \\'Mitch Prater\\', \\'profile_path\\': None}, {\\'credit_id\\': \\'58921264c3a3686b0a004dbf\\', \\'department\\': \\'Visual Effects\\', \\'gender\\': 0, \\'id\\': 1748703, \\'job\\': \\'Visual Effects\\', \\'name\\': \\'Brian M. Rosen\\', \\'profile_path\\': None}, {\\'credit_id\\': \\'589212709251412dcd009676\\', \\'department\\': \\'Lighting\\', \\'gender\\': 1, \\'id\\': 12912, \\'job\\': \\'Lighting Supervisor\\', \\'name\\': \\'Sharon Calahan\\', \\'profile_path\\': None}, {\\'credit_id\\': \\'5892127fc3a3686b0a004de5\\', \\'department\\': \\'Lighting\\', \\'gender\\': 0, \\'id\\': 7899, \\'job\\': \\'Lighting Supervisor\\', \\'name\\': \\'Galyn Susman\\', \\'profile_path\\': None}, {\\'credit_id\\': \\'589212cdc3a3680970009268\\', \\'department\\': \\'Visual Effects\\', \\'gender\\': 0, \\'id\\': 12915, \\'job\\': \\'CG Painter\\', \\'name\\': \\'William Cone\\', \\'profile_path\\': None}, {\\'credit_id\\': \\'5892130f9251412dc8009791\\', \\'department\\': \\'Art\\', \\'gender\\': 0, \\'id\\': 1748705, \\'job\\': \\'Sculptor\\', \\'name\\': \\'Shelley Daniels Lekven\\', \\'profile_path\\': None}, {\\'credit_id\\': \\'5892131c9251412dd4008f4c\\', \\'department\\': \\'Visual Effects\\', \\'gender\\': 2, \\'id\\': 7889, \\'job\\': \\'Character Designer\\', \\'name\\': \\'Bob Pauley\\', \\'profile_path\\': None}, {\\'credit_id\\': \\'589213249251412dd100987b\\', \\'department\\': \\'Visual Effects\\', \\'gender\\': 2, \\'id\\': 7918, \\'job\\': \\'Character Designer\\', \\'name\\': \\'Bud Luckey\\', \\'profile_path\\': \\'/pcCh7G19FKMNijmPQg1PMH1btic.jpg\\'}, {\\'credit_id\\': \\'5892132b9251412dc80097b1\\', \\'department\\': \\'Visual Effects\\', \\'gender\\': 2, \\'id\\': 7, \\'job\\': \\'Character Designer\\', \\'name\\': \\'Andrew Stanton\\', \\'profile_path\\': \\'/pvQWsu0qc8JFQhMVJkTHuexUAa1.jpg\\'}, {\\'credit_id\\': \\'58921332c3a368634800467b\\', \\'department\\': \\'Visual Effects\\', \\'gender\\': 0, \\'id\\': 12915, \\'job\\': \\'Character Designer\\', \\'name\\': \\'William Cone\\', \\'profile_path\\': None}, {\\'credit_id\\': \\'5892135f9251412dd4008f90\\', \\'department\\': \\'Visual Effects\\', \\'gender\\': 0, \\'id\\': 1748706, \\'job\\': \\'Character Designer\\', \\'name\\': \\'Steve Johnson\\', \\'profile_path\\': None}, {\\'credit_id\\': \\'58921384c3a3680973008fd4\\', \\'department\\': \\'Visual Effects\\', \\'gender\\': 0, \\'id\\': 1176752, \\'job\\': \\'Character Designer\\', \\'name\\': \\'Dan Haskett\\', \\'profile_path\\': None}, {\\'credit_id\\': \\'5892138e9251412dc20099fc\\', \\'department\\': \\'Visual Effects\\', \\'gender\\': 0, \\'id\\': 1088034, \\'job\\': \\'Character Designer\\', \\'name\\': \\'Tom Holloway\\', \\'profile_path\\': \\'/a0r0T2usTBpgMI5aZbRBDW1fTl8.jpg\\'}, {\\'credit_id\\': \\'58921395c3a368097700942f\\', \\'department\\': \\'Visual Effects\\', \\'gender\\': 0, \\'id\\': 1447465, \\'job\\': \\'Character Designer\\', \\'name\\': \\'Jean Gillmore\\', \\'profile_path\\': None}, {\\'credit_id\\': \\'589213e2c3a3680973009026\\', \\'department\\': \\'Directing\\', \\'gender\\': 0, \\'id\\': 1748709, \\'job\\': \\'Layout\\', \\'name\\': \\'Desirée Mourad\\', \\'profile_path\\': None}, {\\'credit_id\\': \\'589214099251412dc5009d57\\', \\'department\\': \\'Art\\', \\'gender\\': 0, \\'id\\': 1748710, \\'job\\': \\'Set Dresser\\', \\'name\\': \"Kelly O\\'Connell\", \\'profile_path\\': None}, {\\'credit_id\\': \\'58921411c3a3686b0a004f70\\', \\'department\\': \\'Art\\', \\'gender\\': 0, \\'id\\': 1443471, \\'job\\': \\'Set Dresser\\', \\'name\\': \\'Sonoko Konishi\\', \\'profile_path\\': None}, {\\'credit_id\\': \\'58921434c3a368096a00956e\\', \\'department\\': \\'Art\\', \\'gender\\': 0, \\'id\\': 1748711, \\'job\\': \\'Set Dresser\\', \\'name\\': \\'Ann M. Rockwell\\', \\'profile_path\\': None}, {\\'credit_id\\': \\'5892144ac3a36809680090de\\', \\'department\\': \\'Editing\\', \\'gender\\': 0, \\'id\\': 1748712, \\'job\\': \\'Editorial Manager\\', \\'name\\': \\'Julie M. McDonald\\', \\'profile_path\\': None}, {\\'credit_id\\': \\'58921479c3a368096800910f\\', \\'department\\': \\'Editing\\', \\'gender\\': 0, \\'id\\': 1589729, \\'job\\': \\'Assistant Editor\\', \\'name\\': \\'Robin Lee\\', \\'profile_path\\': None}, {\\'credit_id\\': \\'5892148b9251412dd10099cc\\', \\'department\\': \\'Editing\\', \\'gender\\': 0, \\'id\\': 1748716, \\'job\\': \\'Assistant Editor\\', \\'name\\': \\'Tom Freeman\\', \\'profile_path\\': None}, {\\'credit_id\\': \\'589214959251412dcb009b1f\\', \\'department\\': \\'Editing\\', \\'gender\\': 0, \\'id\\': 1748717, \\'job\\': \\'Assistant Editor\\', \\'name\\': \\'Ada Cochavi\\', \\'profile_path\\': None}, {\\'credit_id\\': \\'5892149ec3a3686348004798\\', \\'department\\': \\'Editing\\', \\'gender\\': 0, \\'id\\': 1336438, \\'job\\': \\'Assistant Editor\\', \\'name\\': \\'Dana Mulligan\\', \\'profile_path\\': None}, {\\'credit_id\\': \\'589214adc3a368096a0095db\\', \\'department\\': \\'Editing\\', \\'gender\\': 0, \\'id\\': 1748718, \\'job\\': \\'Editorial Coordinator\\', \\'name\\': \\'Deirdre Morrison\\', \\'profile_path\\': None}, {\\'credit_id\\': \\'589214c7c3a368097700952b\\', \\'department\\': \\'Production\\', \\'gender\\': 0, \\'id\\': 1748719, \\'job\\': \\'Production Coordinator\\', \\'name\\': \\'Lori Lombardo\\', \\'profile_path\\': None}, {\\'credit_id\\': \\'589214cec3a368096a009603\\', \\'department\\': \\'Production\\', \\'gender\\': 0, \\'id\\': 1748720, \\'job\\': \\'Production Coordinator\\', \\'name\\': \\'Ellen Devine\\', \\'profile_path\\': None}, {\\'credit_id\\': \\'589214e39251412dc8009904\\', \\'department\\': \\'Crew\\', \\'gender\\': 0, \\'id\\': 1468014, \\'job\\': \\'Unit Publicist\\', \\'name\\': \\'Lauren Beth Strogoff\\', \\'profile_path\\': None}, {\\'credit_id\\': \\'58921544c3a3686b0a00507d\\', \\'department\\': \\'Sound\\', \\'gender\\': 2, \\'id\\': 2216, \\'job\\': \\'Sound Re-Recording Mixer\\', \\'name\\': \\'Gary Rydstrom\\', \\'profile_path\\': \\'/jZpr1nVfO7lldWI0YtmP1FGw7Rj.jpg\\'}, {\\'credit_id\\': \\'5892154c9251412dd1009a56\\', \\'department\\': \\'Sound\\', \\'gender\\': 0, \\'id\\': 1425978, \\'job\\': \\'Sound Re-Recording Mixer\\', \\'name\\': \\'Gary Summers\\', \\'profile_path\\': None}, {\\'credit_id\\': \\'58921555c3a36809680091bd\\', \\'department\\': \\'Sound\\', \\'gender\\': 2, \\'id\\': 8276, \\'job\\': \\'Supervising Sound Editor\\', \\'name\\': \\'Tim Holland\\', \\'profile_path\\': None}, {\\'credit_id\\': \\'589215c39251412dcb009c12\\', \\'department\\': \\'Sound\\', \\'gender\\': 0, \\'id\\': 7069, \\'job\\': \\'Sound Effects Editor\\', \\'name\\': \\'Pat Jackson\\', \\'profile_path\\': None}, {\\'credit_id\\': \\'58921698c3a368096a009788\\', \\'department\\': \\'Crew\\', \\'gender\\': 2, \\'id\\': 15894, \\'job\\': \\'Sound Design Assistant\\', \\'name\\': \\'Tom Myers\\', \\'profile_path\\': None}, {\\'credit_id\\': \\'589216a89251412dc2009ca4\\', \\'department\\': \\'Sound\\', \\'gender\\': 0, \\'id\\': 1414177, \\'job\\': \\'Assistant Sound Editor\\', \\'name\\': \\'J.R. Grubbs\\', \\'profile_path\\': None}, {\\'credit_id\\': \\'589216c19251412dc2009cb9\\', \\'department\\': \\'Sound\\', \\'gender\\': 1, \\'id\\': 1748724, \\'job\\': \\'Assistant Sound Editor\\', \\'name\\': \\'Susan Sanford\\', \\'profile_path\\': None}, {\\'credit_id\\': \\'589216ccc3a3680973009274\\', \\'department\\': \\'Sound\\', \\'gender\\': 0, \\'id\\': 1748725, \\'job\\': \\'Assistant Sound Editor\\', \\'name\\': \\'Susan Popovic\\', \\'profile_path\\': None}, {\\'credit_id\\': \\'589216d79251412dc8009aa0\\', \\'department\\': \\'Sound\\', \\'gender\\': 0, \\'id\\': 8067, \\'job\\': \\'Assistant Sound Editor\\', \\'name\\': \\'Dan Engstrom\\', \\'profile_path\\': None}, {\\'credit_id\\': \\'589216e49251412dcd009a4f\\', \\'department\\': \\'Production\\', \\'gender\\': 1, \\'id\\': 7902, \\'job\\': \\'Casting Consultant\\', \\'name\\': \\'Ruth Lambert\\', \\'profile_path\\': None}, {\\'credit_id\\': \\'589216f39251412dc2009cf3\\', \\'department\\': \\'Production\\', \\'gender\\': 0, \\'id\\': 84493, \\'job\\': \\'ADR Voice Casting\\', \\'name\\': \\'Mickie McGowan\\', \\'profile_path\\': \\'/k7TjJBfINsg8vLQxJwos6XObAD6.jpg\\'}]'"
      ]
     },
     "execution_count": 30,
     "metadata": {},
     "output_type": "execute_result"
    }
   ],
   "source": [
    "credits[\"crew\"].iloc[:][0]"
   ]
  },
  {
   "attachments": {},
   "cell_type": "markdown",
   "metadata": {},
   "source": [
    "Debido a que para el proyecto sólo necesito el nombre del director, me limito a extraer sólo ese atributo. Sin embargo la función se puede utilizar para extraer la lista por trabajo o departamento y guardar todos los datos."
   ]
  },
  {
   "cell_type": "code",
   "execution_count": 31,
   "metadata": {},
   "outputs": [
    {
     "data": {
      "text/plain": [
       "0           [John Lasseter]\n",
       "1            [Joe Johnston]\n",
       "2           [Howard Deutch]\n",
       "3         [Forest Whitaker]\n",
       "4           [Charles Shyer]\n",
       "                ...        \n",
       "45471    [Hamid Nematollah]\n",
       "45472            [Lav Diaz]\n",
       "45473      [Mark L. Lester]\n",
       "45474    [Yakov Protazanov]\n",
       "45475       [Daisy Asquith]\n",
       "Name: director, Length: 45476, dtype: object"
      ]
     },
     "execution_count": 31,
     "metadata": {},
     "output_type": "execute_result"
    }
   ],
   "source": [
    "credits[\"director\"] = credits[\"crew\"].apply(lambda x: fetch_name_2(x, name='name', filter= {'job':'director'}))\n",
    "#credits[\"director\"] = credits[\"director\"].apply(lambda x: x[0] if x != [] else np.NaN)\n",
    "credits[\"director\"]"
   ]
  },
  {
   "cell_type": "code",
   "execution_count": 32,
   "metadata": {},
   "outputs": [],
   "source": [
    "credits[\"cast_id\"] = credits[\"cast\"].apply(lambda x: fetch_name(x,name='credit_id'))\n",
    "credits[\"cast\"] = credits[\"cast\"].apply(lambda x: fetch_name(x))"
   ]
  },
  {
   "attachments": {},
   "cell_type": "markdown",
   "metadata": {},
   "source": [
    "### Separar columnas anidadas"
   ]
  },
  {
   "attachments": {},
   "cell_type": "markdown",
   "metadata": {},
   "source": [
    "Una vez obtenido las referencias de cada columna anidada, es hora de convertir cada una en una nueva tabla. Así nos aseguramos de quedarnos con todos los datos posibles."
   ]
  },
  {
   "cell_type": "code",
   "execution_count": 33,
   "metadata": {},
   "outputs": [
    {
     "data": {
      "text/plain": [
       "0                 [{'iso_639_1': 'en', 'name': 'English'}]\n",
       "1        [{'iso_639_1': 'en', 'name': 'English'}, {'iso...\n",
       "2                 [{'iso_639_1': 'en', 'name': 'English'}]\n",
       "3                 [{'iso_639_1': 'en', 'name': 'English'}]\n",
       "4                 [{'iso_639_1': 'en', 'name': 'English'}]\n",
       "                               ...                        \n",
       "45457             [{'iso_639_1': 'en', 'name': 'English'}]\n",
       "45459                    [{'iso_639_1': 'tl', 'name': ''}]\n",
       "45460             [{'iso_639_1': 'en', 'name': 'English'}]\n",
       "45461                                                   []\n",
       "45462             [{'iso_639_1': 'en', 'name': 'English'}]\n",
       "Name: spoken_languages, Length: 45362, dtype: object"
      ]
     },
     "execution_count": 33,
     "metadata": {},
     "output_type": "execute_result"
    }
   ],
   "source": [
    "spoken_languages"
   ]
  },
  {
   "attachments": {},
   "cell_type": "markdown",
   "metadata": {},
   "source": [
    "Entonces primero spoken languages. La función explode aplana una serie de listas, para luego aplicar pd.Series y convertir cada diccionario en un dataframe y unirlo."
   ]
  },
  {
   "cell_type": "code",
   "execution_count": 34,
   "metadata": {},
   "outputs": [
    {
     "data": {
      "text/html": [
       "<div>\n",
       "<style scoped>\n",
       "    .dataframe tbody tr th:only-of-type {\n",
       "        vertical-align: middle;\n",
       "    }\n",
       "\n",
       "    .dataframe tbody tr th {\n",
       "        vertical-align: top;\n",
       "    }\n",
       "\n",
       "    .dataframe thead th {\n",
       "        text-align: right;\n",
       "    }\n",
       "</style>\n",
       "<table border=\"1\" class=\"dataframe\">\n",
       "  <thead>\n",
       "    <tr style=\"text-align: right;\">\n",
       "      <th></th>\n",
       "      <th>iso_639_1</th>\n",
       "      <th>name</th>\n",
       "      <th>0</th>\n",
       "    </tr>\n",
       "  </thead>\n",
       "  <tbody>\n",
       "    <tr>\n",
       "      <th>0</th>\n",
       "      <td>en</td>\n",
       "      <td>English</td>\n",
       "      <td>NaN</td>\n",
       "    </tr>\n",
       "    <tr>\n",
       "      <th>1</th>\n",
       "      <td>en</td>\n",
       "      <td>English</td>\n",
       "      <td>NaN</td>\n",
       "    </tr>\n",
       "    <tr>\n",
       "      <th>1</th>\n",
       "      <td>fr</td>\n",
       "      <td>Français</td>\n",
       "      <td>NaN</td>\n",
       "    </tr>\n",
       "    <tr>\n",
       "      <th>2</th>\n",
       "      <td>en</td>\n",
       "      <td>English</td>\n",
       "      <td>NaN</td>\n",
       "    </tr>\n",
       "    <tr>\n",
       "      <th>3</th>\n",
       "      <td>en</td>\n",
       "      <td>English</td>\n",
       "      <td>NaN</td>\n",
       "    </tr>\n",
       "  </tbody>\n",
       "</table>\n",
       "</div>"
      ],
      "text/plain": [
       "  iso_639_1      name   0\n",
       "0        en   English NaN\n",
       "1        en   English NaN\n",
       "1        fr  Français NaN\n",
       "2        en   English NaN\n",
       "3        en   English NaN"
      ]
     },
     "execution_count": 34,
     "metadata": {},
     "output_type": "execute_result"
    }
   ],
   "source": [
    "spoken_languages = spoken_languages.apply(ast.literal_eval).explode()\n",
    "spoken_languages = spoken_languages.apply(pd.Series)\n",
    "spoken_languages.head()"
   ]
  },
  {
   "cell_type": "code",
   "execution_count": 35,
   "metadata": {},
   "outputs": [],
   "source": [
    "spoken_languages = spoken_languages.dropna(axis=0, how='all').dropna(axis=1, how='all')"
   ]
  },
  {
   "cell_type": "code",
   "execution_count": 36,
   "metadata": {},
   "outputs": [
    {
     "data": {
      "text/html": [
       "<div>\n",
       "<style scoped>\n",
       "    .dataframe tbody tr th:only-of-type {\n",
       "        vertical-align: middle;\n",
       "    }\n",
       "\n",
       "    .dataframe tbody tr th {\n",
       "        vertical-align: top;\n",
       "    }\n",
       "\n",
       "    .dataframe thead th {\n",
       "        text-align: right;\n",
       "    }\n",
       "</style>\n",
       "<table border=\"1\" class=\"dataframe\">\n",
       "  <thead>\n",
       "    <tr style=\"text-align: right;\">\n",
       "      <th></th>\n",
       "      <th>iso_639_1</th>\n",
       "      <th>name</th>\n",
       "    </tr>\n",
       "  </thead>\n",
       "  <tbody>\n",
       "    <tr>\n",
       "      <th>0</th>\n",
       "      <td>en</td>\n",
       "      <td>English</td>\n",
       "    </tr>\n",
       "    <tr>\n",
       "      <th>1</th>\n",
       "      <td>fr</td>\n",
       "      <td>Français</td>\n",
       "    </tr>\n",
       "    <tr>\n",
       "      <th>5</th>\n",
       "      <td>es</td>\n",
       "      <td>Español</td>\n",
       "    </tr>\n",
       "    <tr>\n",
       "      <th>7</th>\n",
       "      <td>de</td>\n",
       "      <td>Deutsch</td>\n",
       "    </tr>\n",
       "    <tr>\n",
       "      <th>9</th>\n",
       "      <td>ru</td>\n",
       "      <td>Pусский</td>\n",
       "    </tr>\n",
       "    <tr>\n",
       "      <th>...</th>\n",
       "      <td>...</td>\n",
       "      <td>...</td>\n",
       "    </tr>\n",
       "    <tr>\n",
       "      <th>39637</th>\n",
       "      <td>sn</td>\n",
       "      <td></td>\n",
       "    </tr>\n",
       "    <tr>\n",
       "      <th>41189</th>\n",
       "      <td>bi</td>\n",
       "      <td></td>\n",
       "    </tr>\n",
       "    <tr>\n",
       "      <th>42499</th>\n",
       "      <td>ha</td>\n",
       "      <td>Hausa</td>\n",
       "    </tr>\n",
       "    <tr>\n",
       "      <th>42499</th>\n",
       "      <td>ig</td>\n",
       "      <td></td>\n",
       "    </tr>\n",
       "    <tr>\n",
       "      <th>45141</th>\n",
       "      <td>mh</td>\n",
       "      <td></td>\n",
       "    </tr>\n",
       "  </tbody>\n",
       "</table>\n",
       "<p>133 rows × 2 columns</p>\n",
       "</div>"
      ],
      "text/plain": [
       "      iso_639_1      name\n",
       "0            en   English\n",
       "1            fr  Français\n",
       "5            es   Español\n",
       "7            de   Deutsch\n",
       "9            ru   Pусский\n",
       "...         ...       ...\n",
       "39637        sn          \n",
       "41189        bi          \n",
       "42499        ha     Hausa\n",
       "42499        ig          \n",
       "45141        mh          \n",
       "\n",
       "[133 rows x 2 columns]"
      ]
     },
     "execution_count": 36,
     "metadata": {},
     "output_type": "execute_result"
    }
   ],
   "source": [
    "spoken_languages = spoken_languages.drop_duplicates()\n",
    "spoken_languages"
   ]
  },
  {
   "attachments": {},
   "cell_type": "markdown",
   "metadata": {},
   "source": [
    "Y lo mismo para lo demás"
   ]
  },
  {
   "cell_type": "code",
   "execution_count": 37,
   "metadata": {},
   "outputs": [
    {
     "ename": "ValueError",
     "evalue": "malformed node or string: nan",
     "output_type": "error",
     "traceback": [
      "\u001b[1;31m---------------------------------------------------------------------------\u001b[0m",
      "\u001b[1;31mValueError\u001b[0m                                Traceback (most recent call last)",
      "Cell \u001b[1;32mIn[37], line 1\u001b[0m\n\u001b[1;32m----> 1\u001b[0m belongs_to_collection\u001b[39m.\u001b[39;49mapply(ast\u001b[39m.\u001b[39;49mliteral_eval)\u001b[39m.\u001b[39mexplode()\u001b[39m.\u001b[39mapply(pd\u001b[39m.\u001b[39mSeries)\u001b[39m.\u001b[39mdropna(axis\u001b[39m=\u001b[39m\u001b[39m1\u001b[39m, how\u001b[39m=\u001b[39m\u001b[39m'\u001b[39m\u001b[39mall\u001b[39m\u001b[39m'\u001b[39m)\u001b[39m.\u001b[39mdropna(axis\u001b[39m=\u001b[39m\u001b[39m0\u001b[39m, how\u001b[39m=\u001b[39m\u001b[39m'\u001b[39m\u001b[39mall\u001b[39m\u001b[39m'\u001b[39m)\u001b[39m.\u001b[39mdrop_duplicates(inplace\u001b[39m=\u001b[39m\u001b[39mTrue\u001b[39;00m)\n\u001b[0;32m      2\u001b[0m genres\u001b[39m.\u001b[39mapply(ast\u001b[39m.\u001b[39mliteral_eval)\u001b[39m.\u001b[39mexplode()\u001b[39m.\u001b[39mapply(pd\u001b[39m.\u001b[39mSeries)\u001b[39m.\u001b[39mdropna(axis\u001b[39m=\u001b[39m\u001b[39m1\u001b[39m, how\u001b[39m=\u001b[39m\u001b[39m'\u001b[39m\u001b[39mall\u001b[39m\u001b[39m'\u001b[39m)\u001b[39m.\u001b[39mdropna(axis\u001b[39m=\u001b[39m\u001b[39m0\u001b[39m, how\u001b[39m=\u001b[39m\u001b[39m'\u001b[39m\u001b[39mall\u001b[39m\u001b[39m'\u001b[39m)\u001b[39m.\u001b[39mdrop_duplicates(inplace\u001b[39m=\u001b[39m\u001b[39mTrue\u001b[39;00m)\n\u001b[0;32m      3\u001b[0m production_companies\u001b[39m.\u001b[39mapply(ast\u001b[39m.\u001b[39mliteral_eval)\u001b[39m.\u001b[39mexplode()\u001b[39m.\u001b[39mapply(pd\u001b[39m.\u001b[39mSeries)\u001b[39m.\u001b[39mdropna(axis\u001b[39m=\u001b[39m\u001b[39m1\u001b[39m, how\u001b[39m=\u001b[39m\u001b[39m'\u001b[39m\u001b[39mall\u001b[39m\u001b[39m'\u001b[39m)\u001b[39m.\u001b[39mdropna(axis\u001b[39m=\u001b[39m\u001b[39m0\u001b[39m, how\u001b[39m=\u001b[39m\u001b[39m'\u001b[39m\u001b[39mall\u001b[39m\u001b[39m'\u001b[39m)\u001b[39m.\u001b[39mdrop_duplicates(inplace\u001b[39m=\u001b[39m\u001b[39mTrue\u001b[39;00m)\n",
      "File \u001b[1;32mc:\\Users\\sgraf\\AppData\\Local\\Programs\\Python\\Python311\\Lib\\site-packages\\pandas\\core\\series.py:4771\u001b[0m, in \u001b[0;36mSeries.apply\u001b[1;34m(self, func, convert_dtype, args, **kwargs)\u001b[0m\n\u001b[0;32m   4661\u001b[0m \u001b[39mdef\u001b[39;00m \u001b[39mapply\u001b[39m(\n\u001b[0;32m   4662\u001b[0m     \u001b[39mself\u001b[39m,\n\u001b[0;32m   4663\u001b[0m     func: AggFuncType,\n\u001b[1;32m   (...)\u001b[0m\n\u001b[0;32m   4666\u001b[0m     \u001b[39m*\u001b[39m\u001b[39m*\u001b[39mkwargs,\n\u001b[0;32m   4667\u001b[0m ) \u001b[39m-\u001b[39m\u001b[39m>\u001b[39m DataFrame \u001b[39m|\u001b[39m Series:\n\u001b[0;32m   4668\u001b[0m \u001b[39m    \u001b[39m\u001b[39m\"\"\"\u001b[39;00m\n\u001b[0;32m   4669\u001b[0m \u001b[39m    Invoke function on values of Series.\u001b[39;00m\n\u001b[0;32m   4670\u001b[0m \n\u001b[1;32m   (...)\u001b[0m\n\u001b[0;32m   4769\u001b[0m \u001b[39m    dtype: float64\u001b[39;00m\n\u001b[0;32m   4770\u001b[0m \u001b[39m    \"\"\"\u001b[39;00m\n\u001b[1;32m-> 4771\u001b[0m     \u001b[39mreturn\u001b[39;00m SeriesApply(\u001b[39mself\u001b[39;49m, func, convert_dtype, args, kwargs)\u001b[39m.\u001b[39;49mapply()\n",
      "File \u001b[1;32mc:\\Users\\sgraf\\AppData\\Local\\Programs\\Python\\Python311\\Lib\\site-packages\\pandas\\core\\apply.py:1123\u001b[0m, in \u001b[0;36mSeriesApply.apply\u001b[1;34m(self)\u001b[0m\n\u001b[0;32m   1120\u001b[0m     \u001b[39mreturn\u001b[39;00m \u001b[39mself\u001b[39m\u001b[39m.\u001b[39mapply_str()\n\u001b[0;32m   1122\u001b[0m \u001b[39m# self.f is Callable\u001b[39;00m\n\u001b[1;32m-> 1123\u001b[0m \u001b[39mreturn\u001b[39;00m \u001b[39mself\u001b[39;49m\u001b[39m.\u001b[39;49mapply_standard()\n",
      "File \u001b[1;32mc:\\Users\\sgraf\\AppData\\Local\\Programs\\Python\\Python311\\Lib\\site-packages\\pandas\\core\\apply.py:1174\u001b[0m, in \u001b[0;36mSeriesApply.apply_standard\u001b[1;34m(self)\u001b[0m\n\u001b[0;32m   1172\u001b[0m     \u001b[39melse\u001b[39;00m:\n\u001b[0;32m   1173\u001b[0m         values \u001b[39m=\u001b[39m obj\u001b[39m.\u001b[39mastype(\u001b[39mobject\u001b[39m)\u001b[39m.\u001b[39m_values\n\u001b[1;32m-> 1174\u001b[0m         mapped \u001b[39m=\u001b[39m lib\u001b[39m.\u001b[39;49mmap_infer(\n\u001b[0;32m   1175\u001b[0m             values,\n\u001b[0;32m   1176\u001b[0m             f,\n\u001b[0;32m   1177\u001b[0m             convert\u001b[39m=\u001b[39;49m\u001b[39mself\u001b[39;49m\u001b[39m.\u001b[39;49mconvert_dtype,\n\u001b[0;32m   1178\u001b[0m         )\n\u001b[0;32m   1180\u001b[0m \u001b[39mif\u001b[39;00m \u001b[39mlen\u001b[39m(mapped) \u001b[39mand\u001b[39;00m \u001b[39misinstance\u001b[39m(mapped[\u001b[39m0\u001b[39m], ABCSeries):\n\u001b[0;32m   1181\u001b[0m     \u001b[39m# GH#43986 Need to do list(mapped) in order to get treated as nested\u001b[39;00m\n\u001b[0;32m   1182\u001b[0m     \u001b[39m#  See also GH#25959 regarding EA support\u001b[39;00m\n\u001b[0;32m   1183\u001b[0m     \u001b[39mreturn\u001b[39;00m obj\u001b[39m.\u001b[39m_constructor_expanddim(\u001b[39mlist\u001b[39m(mapped), index\u001b[39m=\u001b[39mobj\u001b[39m.\u001b[39mindex)\n",
      "File \u001b[1;32mc:\\Users\\sgraf\\AppData\\Local\\Programs\\Python\\Python311\\Lib\\site-packages\\pandas\\_libs\\lib.pyx:2924\u001b[0m, in \u001b[0;36mpandas._libs.lib.map_infer\u001b[1;34m()\u001b[0m\n",
      "File \u001b[1;32mc:\\Users\\sgraf\\AppData\\Local\\Programs\\Python\\Python311\\Lib\\ast.py:110\u001b[0m, in \u001b[0;36mliteral_eval\u001b[1;34m(node_or_string)\u001b[0m\n\u001b[0;32m    108\u001b[0m                 \u001b[39mreturn\u001b[39;00m left \u001b[39m-\u001b[39m right\n\u001b[0;32m    109\u001b[0m     \u001b[39mreturn\u001b[39;00m _convert_signed_num(node)\n\u001b[1;32m--> 110\u001b[0m \u001b[39mreturn\u001b[39;00m _convert(node_or_string)\n",
      "File \u001b[1;32mc:\\Users\\sgraf\\AppData\\Local\\Programs\\Python\\Python311\\Lib\\ast.py:109\u001b[0m, in \u001b[0;36mliteral_eval.<locals>._convert\u001b[1;34m(node)\u001b[0m\n\u001b[0;32m    107\u001b[0m         \u001b[39melse\u001b[39;00m:\n\u001b[0;32m    108\u001b[0m             \u001b[39mreturn\u001b[39;00m left \u001b[39m-\u001b[39m right\n\u001b[1;32m--> 109\u001b[0m \u001b[39mreturn\u001b[39;00m _convert_signed_num(node)\n",
      "File \u001b[1;32mc:\\Users\\sgraf\\AppData\\Local\\Programs\\Python\\Python311\\Lib\\ast.py:83\u001b[0m, in \u001b[0;36mliteral_eval.<locals>._convert_signed_num\u001b[1;34m(node)\u001b[0m\n\u001b[0;32m     81\u001b[0m     \u001b[39melse\u001b[39;00m:\n\u001b[0;32m     82\u001b[0m         \u001b[39mreturn\u001b[39;00m \u001b[39m-\u001b[39m operand\n\u001b[1;32m---> 83\u001b[0m \u001b[39mreturn\u001b[39;00m _convert_num(node)\n",
      "File \u001b[1;32mc:\\Users\\sgraf\\AppData\\Local\\Programs\\Python\\Python311\\Lib\\ast.py:74\u001b[0m, in \u001b[0;36mliteral_eval.<locals>._convert_num\u001b[1;34m(node)\u001b[0m\n\u001b[0;32m     72\u001b[0m \u001b[39mdef\u001b[39;00m \u001b[39m_convert_num\u001b[39m(node):\n\u001b[0;32m     73\u001b[0m     \u001b[39mif\u001b[39;00m \u001b[39mnot\u001b[39;00m \u001b[39misinstance\u001b[39m(node, Constant) \u001b[39mor\u001b[39;00m \u001b[39mtype\u001b[39m(node\u001b[39m.\u001b[39mvalue) \u001b[39mnot\u001b[39;00m \u001b[39min\u001b[39;00m (\u001b[39mint\u001b[39m, \u001b[39mfloat\u001b[39m, \u001b[39mcomplex\u001b[39m):\n\u001b[1;32m---> 74\u001b[0m         _raise_malformed_node(node)\n\u001b[0;32m     75\u001b[0m     \u001b[39mreturn\u001b[39;00m node\u001b[39m.\u001b[39mvalue\n",
      "File \u001b[1;32mc:\\Users\\sgraf\\AppData\\Local\\Programs\\Python\\Python311\\Lib\\ast.py:71\u001b[0m, in \u001b[0;36mliteral_eval.<locals>._raise_malformed_node\u001b[1;34m(node)\u001b[0m\n\u001b[0;32m     69\u001b[0m \u001b[39mif\u001b[39;00m lno \u001b[39m:=\u001b[39m \u001b[39mgetattr\u001b[39m(node, \u001b[39m'\u001b[39m\u001b[39mlineno\u001b[39m\u001b[39m'\u001b[39m, \u001b[39mNone\u001b[39;00m):\n\u001b[0;32m     70\u001b[0m     msg \u001b[39m+\u001b[39m\u001b[39m=\u001b[39m \u001b[39mf\u001b[39m\u001b[39m'\u001b[39m\u001b[39m on line \u001b[39m\u001b[39m{\u001b[39;00mlno\u001b[39m}\u001b[39;00m\u001b[39m'\u001b[39m\n\u001b[1;32m---> 71\u001b[0m \u001b[39mraise\u001b[39;00m \u001b[39mValueError\u001b[39;00m(msg \u001b[39m+\u001b[39m \u001b[39mf\u001b[39m\u001b[39m'\u001b[39m\u001b[39m: \u001b[39m\u001b[39m{\u001b[39;00mnode\u001b[39m!r}\u001b[39;00m\u001b[39m'\u001b[39m)\n",
      "\u001b[1;31mValueError\u001b[0m: malformed node or string: nan"
     ]
    }
   ],
   "source": [
    "belongs_to_collection.apply(ast.literal_eval).explode().apply(pd.Series).dropna(axis=1, how='all').dropna(axis=0, how='all').drop_duplicates(inplace=True)\n",
    "genres.apply(ast.literal_eval).explode().apply(pd.Series).dropna(axis=1, how='all').dropna(axis=0, how='all').drop_duplicates(inplace=True)\n",
    "production_companies.apply(ast.literal_eval).explode().apply(pd.Series).dropna(axis=1, how='all').dropna(axis=0, how='all').drop_duplicates(inplace=True)\n",
    "production_countries.apply(ast.literal_eval).explode().apply(pd.Series).dropna(axis=1, how='all').dropna(axis=0, how='all').drop_duplicates(inplace=True)\n",
    "crew.apply(ast.literal_eval).explode().apply(pd.Series).dropna(axis=1, how='all').dropna(axis=0, how='all').drop_duplicates(inplace=True)"
   ]
  },
  {
   "cell_type": "code",
   "execution_count": null,
   "metadata": {},
   "outputs": [],
   "source": [
    "cast.apply(ast.literal_eval).explode().apply(pd.Series).dropna(axis=1, how='all').dropna(axis=0, how='all').drop_duplicates(inplace=True)"
   ]
  },
  {
   "attachments": {},
   "cell_type": "markdown",
   "metadata": {},
   "source": [
    "### Merge"
   ]
  },
  {
   "cell_type": "code",
   "execution_count": 38,
   "metadata": {},
   "outputs": [
    {
     "data": {
      "text/plain": [
       "False    45362\n",
       "Name: release_date, dtype: int64"
      ]
     },
     "execution_count": 38,
     "metadata": {},
     "output_type": "execute_result"
    }
   ],
   "source": [
    "data['release_date'].isna().value_counts()"
   ]
  },
  {
   "cell_type": "code",
   "execution_count": 39,
   "metadata": {},
   "outputs": [],
   "source": [
    "data = data.merge(credits[['id', 'director', 'cast']], on=\"id\", how=\"inner\")"
   ]
  },
  {
   "attachments": {},
   "cell_type": "markdown",
   "metadata": {},
   "source": [
    "# Load"
   ]
  },
  {
   "attachments": {},
   "cell_type": "markdown",
   "metadata": {},
   "source": [
    "Ordenando las columnas:"
   ]
  },
  {
   "cell_type": "code",
   "execution_count": 40,
   "metadata": {},
   "outputs": [
    {
     "data": {
      "text/plain": [
       "Index(['belongs_to_collection', 'budget', 'genres', 'id', 'original_language',\n",
       "       'overview', 'popularity', 'production_companies',\n",
       "       'production_countries', 'release_date', 'revenue', 'runtime',\n",
       "       'spoken_languages', 'status', 'tagline', 'title', 'vote_average',\n",
       "       'vote_count', 'release_year', 'return', 'director', 'cast'],\n",
       "      dtype='object')"
      ]
     },
     "execution_count": 40,
     "metadata": {},
     "output_type": "execute_result"
    }
   ],
   "source": [
    "data.columns"
   ]
  },
  {
   "cell_type": "code",
   "execution_count": 41,
   "metadata": {},
   "outputs": [],
   "source": [
    "data = data[['id', 'title', 'genres', 'belongs_to_collection', 'original_language', 'spoken_languages', 'production_companies', 'production_countries', \n",
    "'release_date', 'release_year', 'revenue', 'budget', 'return', 'popularity', 'vote_average', 'vote_count', 'runtime', 'status', 'overview', 'tagline', 'director', 'cast']]"
   ]
  },
  {
   "cell_type": "code",
   "execution_count": 42,
   "metadata": {},
   "outputs": [
    {
     "data": {
      "text/plain": [
       "Index(['cast', 'crew', 'id', 'director', 'cast_id'], dtype='object')"
      ]
     },
     "execution_count": 42,
     "metadata": {},
     "output_type": "execute_result"
    }
   ],
   "source": [
    "credits.columns"
   ]
  },
  {
   "cell_type": "code",
   "execution_count": null,
   "metadata": {},
   "outputs": [],
   "source": [
    "credits = credits[['id', 'director', 'cast']]"
   ]
  },
  {
   "cell_type": "code",
   "execution_count": null,
   "metadata": {},
   "outputs": [],
   "source": [
    "credits.to_csv('scr/Datasets/credits_ETL.csv', index=False)"
   ]
  },
  {
   "cell_type": "code",
   "execution_count": null,
   "metadata": {},
   "outputs": [],
   "source": [
    "data.to_csv('scr/Datasets/movies_dataset_ETL.csv', index=False)"
   ]
  }
 ],
 "metadata": {
  "kernelspec": {
   "display_name": "Python 3",
   "language": "python",
   "name": "python3"
  },
  "language_info": {
   "codemirror_mode": {
    "name": "ipython",
    "version": 3
   },
   "file_extension": ".py",
   "mimetype": "text/x-python",
   "name": "python",
   "nbconvert_exporter": "python",
   "pygments_lexer": "ipython3",
   "version": "3.11.3"
  },
  "orig_nbformat": 4
 },
 "nbformat": 4,
 "nbformat_minor": 2
}
